{
 "cells": [
  {
   "cell_type": "code",
   "execution_count": 138,
   "metadata": {},
   "outputs": [],
   "source": [
    "import pandas as pd\n",
    "# ^^^ pyforest auto-imports - don't write above this line"
   ]
  },
  {
   "cell_type": "markdown",
   "metadata": {},
   "source": [
    "Inference from the NB...\n",
    "\n",
    "Logistics regression's accuracy  0.831243\n",
    "\n",
    "RF accuracy 0.825674\n",
    "\n",
    "RF best 0.831945"
   ]
  },
  {
   "cell_type": "code",
   "execution_count": 88,
   "metadata": {
    "scrolled": false
   },
   "outputs": [
    {
     "data": {
      "text/html": [
       "<div>\n",
       "<style scoped>\n",
       "    .dataframe tbody tr th:only-of-type {\n",
       "        vertical-align: middle;\n",
       "    }\n",
       "\n",
       "    .dataframe tbody tr th {\n",
       "        vertical-align: top;\n",
       "    }\n",
       "\n",
       "    .dataframe thead th {\n",
       "        text-align: right;\n",
       "    }\n",
       "</style>\n",
       "<table border=\"1\" class=\"dataframe\">\n",
       "  <thead>\n",
       "    <tr style=\"text-align: right;\">\n",
       "      <th></th>\n",
       "      <th>credit.policy</th>\n",
       "      <th>purpose</th>\n",
       "      <th>int.rate</th>\n",
       "      <th>installment</th>\n",
       "      <th>log.annual.inc</th>\n",
       "      <th>dti</th>\n",
       "      <th>fico</th>\n",
       "      <th>days.with.cr.line</th>\n",
       "      <th>revol.bal</th>\n",
       "      <th>revol.util</th>\n",
       "      <th>inq.last.6mths</th>\n",
       "      <th>delinq.2yrs</th>\n",
       "      <th>pub.rec</th>\n",
       "      <th>not.fully.paid</th>\n",
       "    </tr>\n",
       "  </thead>\n",
       "  <tbody>\n",
       "    <tr>\n",
       "      <td>0</td>\n",
       "      <td>1</td>\n",
       "      <td>debt_consolidation</td>\n",
       "      <td>0.1189</td>\n",
       "      <td>829.10</td>\n",
       "      <td>11.350407</td>\n",
       "      <td>19.48</td>\n",
       "      <td>737</td>\n",
       "      <td>5639.958333</td>\n",
       "      <td>28854</td>\n",
       "      <td>52.1</td>\n",
       "      <td>0</td>\n",
       "      <td>0</td>\n",
       "      <td>0</td>\n",
       "      <td>0</td>\n",
       "    </tr>\n",
       "    <tr>\n",
       "      <td>1</td>\n",
       "      <td>1</td>\n",
       "      <td>credit_card</td>\n",
       "      <td>0.1071</td>\n",
       "      <td>228.22</td>\n",
       "      <td>11.082143</td>\n",
       "      <td>14.29</td>\n",
       "      <td>707</td>\n",
       "      <td>2760.000000</td>\n",
       "      <td>33623</td>\n",
       "      <td>76.7</td>\n",
       "      <td>0</td>\n",
       "      <td>0</td>\n",
       "      <td>0</td>\n",
       "      <td>0</td>\n",
       "    </tr>\n",
       "    <tr>\n",
       "      <td>2</td>\n",
       "      <td>1</td>\n",
       "      <td>debt_consolidation</td>\n",
       "      <td>0.1357</td>\n",
       "      <td>366.86</td>\n",
       "      <td>10.373491</td>\n",
       "      <td>11.63</td>\n",
       "      <td>682</td>\n",
       "      <td>4710.000000</td>\n",
       "      <td>3511</td>\n",
       "      <td>25.6</td>\n",
       "      <td>1</td>\n",
       "      <td>0</td>\n",
       "      <td>0</td>\n",
       "      <td>0</td>\n",
       "    </tr>\n",
       "    <tr>\n",
       "      <td>3</td>\n",
       "      <td>1</td>\n",
       "      <td>debt_consolidation</td>\n",
       "      <td>0.1008</td>\n",
       "      <td>162.34</td>\n",
       "      <td>11.350407</td>\n",
       "      <td>8.10</td>\n",
       "      <td>712</td>\n",
       "      <td>2699.958333</td>\n",
       "      <td>33667</td>\n",
       "      <td>73.2</td>\n",
       "      <td>1</td>\n",
       "      <td>0</td>\n",
       "      <td>0</td>\n",
       "      <td>0</td>\n",
       "    </tr>\n",
       "    <tr>\n",
       "      <td>4</td>\n",
       "      <td>1</td>\n",
       "      <td>credit_card</td>\n",
       "      <td>0.1426</td>\n",
       "      <td>102.92</td>\n",
       "      <td>11.299732</td>\n",
       "      <td>14.97</td>\n",
       "      <td>667</td>\n",
       "      <td>4066.000000</td>\n",
       "      <td>4740</td>\n",
       "      <td>39.5</td>\n",
       "      <td>0</td>\n",
       "      <td>1</td>\n",
       "      <td>0</td>\n",
       "      <td>0</td>\n",
       "    </tr>\n",
       "    <tr>\n",
       "      <td>...</td>\n",
       "      <td>...</td>\n",
       "      <td>...</td>\n",
       "      <td>...</td>\n",
       "      <td>...</td>\n",
       "      <td>...</td>\n",
       "      <td>...</td>\n",
       "      <td>...</td>\n",
       "      <td>...</td>\n",
       "      <td>...</td>\n",
       "      <td>...</td>\n",
       "      <td>...</td>\n",
       "      <td>...</td>\n",
       "      <td>...</td>\n",
       "      <td>...</td>\n",
       "    </tr>\n",
       "    <tr>\n",
       "      <td>9573</td>\n",
       "      <td>0</td>\n",
       "      <td>all_other</td>\n",
       "      <td>0.1461</td>\n",
       "      <td>344.76</td>\n",
       "      <td>12.180755</td>\n",
       "      <td>10.39</td>\n",
       "      <td>672</td>\n",
       "      <td>10474.000000</td>\n",
       "      <td>215372</td>\n",
       "      <td>82.1</td>\n",
       "      <td>2</td>\n",
       "      <td>0</td>\n",
       "      <td>0</td>\n",
       "      <td>1</td>\n",
       "    </tr>\n",
       "    <tr>\n",
       "      <td>9574</td>\n",
       "      <td>0</td>\n",
       "      <td>all_other</td>\n",
       "      <td>0.1253</td>\n",
       "      <td>257.70</td>\n",
       "      <td>11.141862</td>\n",
       "      <td>0.21</td>\n",
       "      <td>722</td>\n",
       "      <td>4380.000000</td>\n",
       "      <td>184</td>\n",
       "      <td>1.1</td>\n",
       "      <td>5</td>\n",
       "      <td>0</td>\n",
       "      <td>0</td>\n",
       "      <td>1</td>\n",
       "    </tr>\n",
       "    <tr>\n",
       "      <td>9575</td>\n",
       "      <td>0</td>\n",
       "      <td>debt_consolidation</td>\n",
       "      <td>0.1071</td>\n",
       "      <td>97.81</td>\n",
       "      <td>10.596635</td>\n",
       "      <td>13.09</td>\n",
       "      <td>687</td>\n",
       "      <td>3450.041667</td>\n",
       "      <td>10036</td>\n",
       "      <td>82.9</td>\n",
       "      <td>8</td>\n",
       "      <td>0</td>\n",
       "      <td>0</td>\n",
       "      <td>1</td>\n",
       "    </tr>\n",
       "    <tr>\n",
       "      <td>9576</td>\n",
       "      <td>0</td>\n",
       "      <td>home_improvement</td>\n",
       "      <td>0.1600</td>\n",
       "      <td>351.58</td>\n",
       "      <td>10.819778</td>\n",
       "      <td>19.18</td>\n",
       "      <td>692</td>\n",
       "      <td>1800.000000</td>\n",
       "      <td>0</td>\n",
       "      <td>3.2</td>\n",
       "      <td>5</td>\n",
       "      <td>0</td>\n",
       "      <td>0</td>\n",
       "      <td>1</td>\n",
       "    </tr>\n",
       "    <tr>\n",
       "      <td>9577</td>\n",
       "      <td>0</td>\n",
       "      <td>debt_consolidation</td>\n",
       "      <td>0.1392</td>\n",
       "      <td>853.43</td>\n",
       "      <td>11.264464</td>\n",
       "      <td>16.28</td>\n",
       "      <td>732</td>\n",
       "      <td>4740.000000</td>\n",
       "      <td>37879</td>\n",
       "      <td>57.0</td>\n",
       "      <td>6</td>\n",
       "      <td>0</td>\n",
       "      <td>0</td>\n",
       "      <td>1</td>\n",
       "    </tr>\n",
       "  </tbody>\n",
       "</table>\n",
       "<p>9578 rows × 14 columns</p>\n",
       "</div>"
      ],
      "text/plain": [
       "      credit.policy             purpose  int.rate  installment  \\\n",
       "0                 1  debt_consolidation    0.1189       829.10   \n",
       "1                 1         credit_card    0.1071       228.22   \n",
       "2                 1  debt_consolidation    0.1357       366.86   \n",
       "3                 1  debt_consolidation    0.1008       162.34   \n",
       "4                 1         credit_card    0.1426       102.92   \n",
       "...             ...                 ...       ...          ...   \n",
       "9573              0           all_other    0.1461       344.76   \n",
       "9574              0           all_other    0.1253       257.70   \n",
       "9575              0  debt_consolidation    0.1071        97.81   \n",
       "9576              0    home_improvement    0.1600       351.58   \n",
       "9577              0  debt_consolidation    0.1392       853.43   \n",
       "\n",
       "      log.annual.inc    dti  fico  days.with.cr.line  revol.bal  revol.util  \\\n",
       "0          11.350407  19.48   737        5639.958333      28854        52.1   \n",
       "1          11.082143  14.29   707        2760.000000      33623        76.7   \n",
       "2          10.373491  11.63   682        4710.000000       3511        25.6   \n",
       "3          11.350407   8.10   712        2699.958333      33667        73.2   \n",
       "4          11.299732  14.97   667        4066.000000       4740        39.5   \n",
       "...              ...    ...   ...                ...        ...         ...   \n",
       "9573       12.180755  10.39   672       10474.000000     215372        82.1   \n",
       "9574       11.141862   0.21   722        4380.000000        184         1.1   \n",
       "9575       10.596635  13.09   687        3450.041667      10036        82.9   \n",
       "9576       10.819778  19.18   692        1800.000000          0         3.2   \n",
       "9577       11.264464  16.28   732        4740.000000      37879        57.0   \n",
       "\n",
       "      inq.last.6mths  delinq.2yrs  pub.rec  not.fully.paid  \n",
       "0                  0            0        0               0  \n",
       "1                  0            0        0               0  \n",
       "2                  1            0        0               0  \n",
       "3                  1            0        0               0  \n",
       "4                  0            1        0               0  \n",
       "...              ...          ...      ...             ...  \n",
       "9573               2            0        0               1  \n",
       "9574               5            0        0               1  \n",
       "9575               8            0        0               1  \n",
       "9576               5            0        0               1  \n",
       "9577               6            0        0               1  \n",
       "\n",
       "[9578 rows x 14 columns]"
      ]
     },
     "execution_count": 88,
     "metadata": {},
     "output_type": "execute_result"
    }
   ],
   "source": [
    "loan_df=pd.read_csv('D:/Data_Science/Machine_Learning/loan_data.csv')\n",
    "loan_df"
   ]
  },
  {
   "cell_type": "code",
   "execution_count": 89,
   "metadata": {},
   "outputs": [],
   "source": [
    "X=loan_df.drop('not.fully.paid',axis=1)\n",
    "y=loan_df['not.fully.paid']"
   ]
  },
  {
   "cell_type": "code",
   "execution_count": 90,
   "metadata": {},
   "outputs": [
    {
     "name": "stdout",
     "output_type": "stream",
     "text": [
      "<class 'pandas.core.frame.DataFrame'>\n",
      "RangeIndex: 9578 entries, 0 to 9577\n",
      "Data columns (total 14 columns):\n",
      "credit.policy        9578 non-null int64\n",
      "purpose              9578 non-null object\n",
      "int.rate             9578 non-null float64\n",
      "installment          9578 non-null float64\n",
      "log.annual.inc       9578 non-null float64\n",
      "dti                  9578 non-null float64\n",
      "fico                 9578 non-null int64\n",
      "days.with.cr.line    9578 non-null float64\n",
      "revol.bal            9578 non-null int64\n",
      "revol.util           9578 non-null float64\n",
      "inq.last.6mths       9578 non-null int64\n",
      "delinq.2yrs          9578 non-null int64\n",
      "pub.rec              9578 non-null int64\n",
      "not.fully.paid       9578 non-null int64\n",
      "dtypes: float64(6), int64(7), object(1)\n",
      "memory usage: 1.0+ MB\n"
     ]
    }
   ],
   "source": [
    "loan_df.info()"
   ]
  },
  {
   "cell_type": "code",
   "execution_count": 91,
   "metadata": {
    "scrolled": true
   },
   "outputs": [
    {
     "data": {
      "text/plain": [
       "credit.policy        0\n",
       "purpose              0\n",
       "int.rate             0\n",
       "installment          0\n",
       "log.annual.inc       0\n",
       "dti                  0\n",
       "fico                 0\n",
       "days.with.cr.line    0\n",
       "revol.bal            0\n",
       "revol.util           0\n",
       "inq.last.6mths       0\n",
       "delinq.2yrs          0\n",
       "pub.rec              0\n",
       "not.fully.paid       0\n",
       "dtype: int64"
      ]
     },
     "execution_count": 91,
     "metadata": {},
     "output_type": "execute_result"
    }
   ],
   "source": [
    "loan_df.isna().sum()"
   ]
  },
  {
   "cell_type": "code",
   "execution_count": 92,
   "metadata": {},
   "outputs": [
    {
     "data": {
      "text/plain": [
       "debt_consolidation    3957\n",
       "all_other             2331\n",
       "credit_card           1262\n",
       "home_improvement       629\n",
       "small_business         619\n",
       "major_purchase         437\n",
       "educational            343\n",
       "Name: purpose, dtype: int64"
      ]
     },
     "execution_count": 92,
     "metadata": {},
     "output_type": "execute_result"
    }
   ],
   "source": [
    "loan_df.purpose.value_counts()"
   ]
  },
  {
   "cell_type": "code",
   "execution_count": 93,
   "metadata": {},
   "outputs": [],
   "source": [
    "# from sklearn.preprocessing import LabelEncoder\n",
    "# le = LabelEncoder()"
   ]
  },
  {
   "cell_type": "code",
   "execution_count": 82,
   "metadata": {},
   "outputs": [],
   "source": [
    "#loan_df['purpose']=loan_df['purpose'].astype('category')"
   ]
  },
  {
   "cell_type": "code",
   "execution_count": 94,
   "metadata": {
    "scrolled": true
   },
   "outputs": [
    {
     "data": {
      "text/plain": [
       "credit.policy          int64\n",
       "purpose               object\n",
       "int.rate             float64\n",
       "installment          float64\n",
       "log.annual.inc       float64\n",
       "dti                  float64\n",
       "fico                   int64\n",
       "days.with.cr.line    float64\n",
       "revol.bal              int64\n",
       "revol.util           float64\n",
       "inq.last.6mths         int64\n",
       "delinq.2yrs            int64\n",
       "pub.rec                int64\n",
       "not.fully.paid         int64\n",
       "dtype: object"
      ]
     },
     "execution_count": 94,
     "metadata": {},
     "output_type": "execute_result"
    }
   ],
   "source": [
    "loan_df.dtypes"
   ]
  },
  {
   "cell_type": "code",
   "execution_count": 42,
   "metadata": {},
   "outputs": [
    {
     "data": {
      "text/plain": [
       "array([2, 1, 2, ..., 2, 4, 2])"
      ]
     },
     "execution_count": 42,
     "metadata": {},
     "output_type": "execute_result"
    }
   ],
   "source": [
    "# le.fit_transform(loan_df['purpose'])"
   ]
  },
  {
   "cell_type": "code",
   "execution_count": 95,
   "metadata": {},
   "outputs": [],
   "source": [
    "encodedDF = pd.get_dummies(loan_df['purpose'])"
   ]
  },
  {
   "cell_type": "code",
   "execution_count": 58,
   "metadata": {},
   "outputs": [
    {
     "data": {
      "text/plain": [
       "RangeIndex(start=0, stop=9578, step=1)"
      ]
     },
     "execution_count": 58,
     "metadata": {},
     "output_type": "execute_result"
    }
   ],
   "source": [
    "encodedDF.index"
   ]
  },
  {
   "cell_type": "code",
   "execution_count": 59,
   "metadata": {},
   "outputs": [
    {
     "data": {
      "text/plain": [
       "RangeIndex(start=0, stop=9578, step=1)"
      ]
     },
     "execution_count": 59,
     "metadata": {},
     "output_type": "execute_result"
    }
   ],
   "source": [
    "new_df.index"
   ]
  },
  {
   "cell_type": "code",
   "execution_count": 133,
   "metadata": {},
   "outputs": [
    {
     "data": {
      "text/html": [
       "<div>\n",
       "<style scoped>\n",
       "    .dataframe tbody tr th:only-of-type {\n",
       "        vertical-align: middle;\n",
       "    }\n",
       "\n",
       "    .dataframe tbody tr th {\n",
       "        vertical-align: top;\n",
       "    }\n",
       "\n",
       "    .dataframe thead th {\n",
       "        text-align: right;\n",
       "    }\n",
       "</style>\n",
       "<table border=\"1\" class=\"dataframe\">\n",
       "  <thead>\n",
       "    <tr style=\"text-align: right;\">\n",
       "      <th></th>\n",
       "      <th>all_other</th>\n",
       "      <th>credit_card</th>\n",
       "      <th>debt_consolidation</th>\n",
       "      <th>educational</th>\n",
       "      <th>home_improvement</th>\n",
       "      <th>major_purchase</th>\n",
       "      <th>small_business</th>\n",
       "    </tr>\n",
       "  </thead>\n",
       "  <tbody>\n",
       "    <tr>\n",
       "      <td>0</td>\n",
       "      <td>0</td>\n",
       "      <td>0</td>\n",
       "      <td>1</td>\n",
       "      <td>0</td>\n",
       "      <td>0</td>\n",
       "      <td>0</td>\n",
       "      <td>0</td>\n",
       "    </tr>\n",
       "    <tr>\n",
       "      <td>1</td>\n",
       "      <td>0</td>\n",
       "      <td>1</td>\n",
       "      <td>0</td>\n",
       "      <td>0</td>\n",
       "      <td>0</td>\n",
       "      <td>0</td>\n",
       "      <td>0</td>\n",
       "    </tr>\n",
       "    <tr>\n",
       "      <td>2</td>\n",
       "      <td>0</td>\n",
       "      <td>0</td>\n",
       "      <td>1</td>\n",
       "      <td>0</td>\n",
       "      <td>0</td>\n",
       "      <td>0</td>\n",
       "      <td>0</td>\n",
       "    </tr>\n",
       "    <tr>\n",
       "      <td>3</td>\n",
       "      <td>0</td>\n",
       "      <td>0</td>\n",
       "      <td>1</td>\n",
       "      <td>0</td>\n",
       "      <td>0</td>\n",
       "      <td>0</td>\n",
       "      <td>0</td>\n",
       "    </tr>\n",
       "    <tr>\n",
       "      <td>4</td>\n",
       "      <td>0</td>\n",
       "      <td>1</td>\n",
       "      <td>0</td>\n",
       "      <td>0</td>\n",
       "      <td>0</td>\n",
       "      <td>0</td>\n",
       "      <td>0</td>\n",
       "    </tr>\n",
       "  </tbody>\n",
       "</table>\n",
       "</div>"
      ],
      "text/plain": [
       "   all_other  credit_card  debt_consolidation  educational  home_improvement  \\\n",
       "0          0            0                   1            0                 0   \n",
       "1          0            1                   0            0                 0   \n",
       "2          0            0                   1            0                 0   \n",
       "3          0            0                   1            0                 0   \n",
       "4          0            1                   0            0                 0   \n",
       "\n",
       "   major_purchase  small_business  \n",
       "0               0               0  \n",
       "1               0               0  \n",
       "2               0               0  \n",
       "3               0               0  \n",
       "4               0               0  "
      ]
     },
     "execution_count": 133,
     "metadata": {},
     "output_type": "execute_result"
    }
   ],
   "source": [
    "encodedDF.head()"
   ]
  },
  {
   "cell_type": "code",
   "execution_count": 50,
   "metadata": {},
   "outputs": [
    {
     "name": "stdout",
     "output_type": "stream",
     "text": [
      "<class 'pandas.core.frame.DataFrame'>\n",
      "RangeIndex: 9578 entries, 0 to 9577\n",
      "Data columns (total 7 columns):\n",
      "all_other             9578 non-null uint8\n",
      "credit_card           9578 non-null uint8\n",
      "debt_consolidation    9578 non-null uint8\n",
      "educational           9578 non-null uint8\n",
      "home_improvement      9578 non-null uint8\n",
      "major_purchase        9578 non-null uint8\n",
      "small_business        9578 non-null uint8\n",
      "dtypes: uint8(7)\n",
      "memory usage: 65.6 KB\n"
     ]
    }
   ],
   "source": [
    "encodedDF.info()"
   ]
  },
  {
   "cell_type": "code",
   "execution_count": 96,
   "metadata": {
    "scrolled": true
   },
   "outputs": [],
   "source": [
    "modellingDF = pd.concat([encodedDF,new_df],axis=1)"
   ]
  },
  {
   "cell_type": "code",
   "execution_count": 97,
   "metadata": {
    "scrolled": true
   },
   "outputs": [
    {
     "data": {
      "text/html": [
       "<div>\n",
       "<style scoped>\n",
       "    .dataframe tbody tr th:only-of-type {\n",
       "        vertical-align: middle;\n",
       "    }\n",
       "\n",
       "    .dataframe tbody tr th {\n",
       "        vertical-align: top;\n",
       "    }\n",
       "\n",
       "    .dataframe thead th {\n",
       "        text-align: right;\n",
       "    }\n",
       "</style>\n",
       "<table border=\"1\" class=\"dataframe\">\n",
       "  <thead>\n",
       "    <tr style=\"text-align: right;\">\n",
       "      <th></th>\n",
       "      <th>all_other</th>\n",
       "      <th>credit_card</th>\n",
       "      <th>debt_consolidation</th>\n",
       "      <th>educational</th>\n",
       "      <th>home_improvement</th>\n",
       "      <th>major_purchase</th>\n",
       "      <th>small_business</th>\n",
       "      <th>credit.policy</th>\n",
       "      <th>int.rate</th>\n",
       "      <th>installment</th>\n",
       "      <th>log.annual.inc</th>\n",
       "      <th>dti</th>\n",
       "      <th>fico</th>\n",
       "      <th>days.with.cr.line</th>\n",
       "      <th>revol.bal</th>\n",
       "      <th>revol.util</th>\n",
       "      <th>inq.last.6mths</th>\n",
       "      <th>delinq.2yrs</th>\n",
       "      <th>pub.rec</th>\n",
       "      <th>not.fully.paid</th>\n",
       "    </tr>\n",
       "  </thead>\n",
       "  <tbody>\n",
       "    <tr>\n",
       "      <td>0</td>\n",
       "      <td>0</td>\n",
       "      <td>0</td>\n",
       "      <td>1</td>\n",
       "      <td>0</td>\n",
       "      <td>0</td>\n",
       "      <td>0</td>\n",
       "      <td>0</td>\n",
       "      <td>1</td>\n",
       "      <td>0.1189</td>\n",
       "      <td>829.10</td>\n",
       "      <td>11.350407</td>\n",
       "      <td>19.48</td>\n",
       "      <td>737</td>\n",
       "      <td>5639.958333</td>\n",
       "      <td>28854</td>\n",
       "      <td>52.1</td>\n",
       "      <td>0</td>\n",
       "      <td>0</td>\n",
       "      <td>0</td>\n",
       "      <td>0</td>\n",
       "    </tr>\n",
       "    <tr>\n",
       "      <td>1</td>\n",
       "      <td>0</td>\n",
       "      <td>1</td>\n",
       "      <td>0</td>\n",
       "      <td>0</td>\n",
       "      <td>0</td>\n",
       "      <td>0</td>\n",
       "      <td>0</td>\n",
       "      <td>1</td>\n",
       "      <td>0.1071</td>\n",
       "      <td>228.22</td>\n",
       "      <td>11.082143</td>\n",
       "      <td>14.29</td>\n",
       "      <td>707</td>\n",
       "      <td>2760.000000</td>\n",
       "      <td>33623</td>\n",
       "      <td>76.7</td>\n",
       "      <td>0</td>\n",
       "      <td>0</td>\n",
       "      <td>0</td>\n",
       "      <td>0</td>\n",
       "    </tr>\n",
       "    <tr>\n",
       "      <td>2</td>\n",
       "      <td>0</td>\n",
       "      <td>0</td>\n",
       "      <td>1</td>\n",
       "      <td>0</td>\n",
       "      <td>0</td>\n",
       "      <td>0</td>\n",
       "      <td>0</td>\n",
       "      <td>1</td>\n",
       "      <td>0.1357</td>\n",
       "      <td>366.86</td>\n",
       "      <td>10.373491</td>\n",
       "      <td>11.63</td>\n",
       "      <td>682</td>\n",
       "      <td>4710.000000</td>\n",
       "      <td>3511</td>\n",
       "      <td>25.6</td>\n",
       "      <td>1</td>\n",
       "      <td>0</td>\n",
       "      <td>0</td>\n",
       "      <td>0</td>\n",
       "    </tr>\n",
       "    <tr>\n",
       "      <td>3</td>\n",
       "      <td>0</td>\n",
       "      <td>0</td>\n",
       "      <td>1</td>\n",
       "      <td>0</td>\n",
       "      <td>0</td>\n",
       "      <td>0</td>\n",
       "      <td>0</td>\n",
       "      <td>1</td>\n",
       "      <td>0.1008</td>\n",
       "      <td>162.34</td>\n",
       "      <td>11.350407</td>\n",
       "      <td>8.10</td>\n",
       "      <td>712</td>\n",
       "      <td>2699.958333</td>\n",
       "      <td>33667</td>\n",
       "      <td>73.2</td>\n",
       "      <td>1</td>\n",
       "      <td>0</td>\n",
       "      <td>0</td>\n",
       "      <td>0</td>\n",
       "    </tr>\n",
       "    <tr>\n",
       "      <td>4</td>\n",
       "      <td>0</td>\n",
       "      <td>1</td>\n",
       "      <td>0</td>\n",
       "      <td>0</td>\n",
       "      <td>0</td>\n",
       "      <td>0</td>\n",
       "      <td>0</td>\n",
       "      <td>1</td>\n",
       "      <td>0.1426</td>\n",
       "      <td>102.92</td>\n",
       "      <td>11.299732</td>\n",
       "      <td>14.97</td>\n",
       "      <td>667</td>\n",
       "      <td>4066.000000</td>\n",
       "      <td>4740</td>\n",
       "      <td>39.5</td>\n",
       "      <td>0</td>\n",
       "      <td>1</td>\n",
       "      <td>0</td>\n",
       "      <td>0</td>\n",
       "    </tr>\n",
       "  </tbody>\n",
       "</table>\n",
       "</div>"
      ],
      "text/plain": [
       "   all_other  credit_card  debt_consolidation  educational  home_improvement  \\\n",
       "0          0            0                   1            0                 0   \n",
       "1          0            1                   0            0                 0   \n",
       "2          0            0                   1            0                 0   \n",
       "3          0            0                   1            0                 0   \n",
       "4          0            1                   0            0                 0   \n",
       "\n",
       "   major_purchase  small_business  credit.policy  int.rate  installment  \\\n",
       "0               0               0              1    0.1189       829.10   \n",
       "1               0               0              1    0.1071       228.22   \n",
       "2               0               0              1    0.1357       366.86   \n",
       "3               0               0              1    0.1008       162.34   \n",
       "4               0               0              1    0.1426       102.92   \n",
       "\n",
       "   log.annual.inc    dti  fico  days.with.cr.line  revol.bal  revol.util  \\\n",
       "0       11.350407  19.48   737        5639.958333      28854        52.1   \n",
       "1       11.082143  14.29   707        2760.000000      33623        76.7   \n",
       "2       10.373491  11.63   682        4710.000000       3511        25.6   \n",
       "3       11.350407   8.10   712        2699.958333      33667        73.2   \n",
       "4       11.299732  14.97   667        4066.000000       4740        39.5   \n",
       "\n",
       "   inq.last.6mths  delinq.2yrs  pub.rec  not.fully.paid  \n",
       "0               0            0        0               0  \n",
       "1               0            0        0               0  \n",
       "2               1            0        0               0  \n",
       "3               1            0        0               0  \n",
       "4               0            1        0               0  "
      ]
     },
     "execution_count": 97,
     "metadata": {},
     "output_type": "execute_result"
    }
   ],
   "source": [
    "modellingDF.head()"
   ]
  },
  {
   "cell_type": "code",
   "execution_count": 99,
   "metadata": {},
   "outputs": [],
   "source": [
    "X=modellingDF.drop('not.fully.paid',axis=1)\n",
    "y=modellingDF['not.fully.paid']"
   ]
  },
  {
   "cell_type": "code",
   "execution_count": 48,
   "metadata": {},
   "outputs": [],
   "source": [
    "new_df=loan_df.drop('purpose',axis=1)"
   ]
  },
  {
   "cell_type": "code",
   "execution_count": 53,
   "metadata": {},
   "outputs": [
    {
     "data": {
      "text/html": [
       "<div>\n",
       "<style scoped>\n",
       "    .dataframe tbody tr th:only-of-type {\n",
       "        vertical-align: middle;\n",
       "    }\n",
       "\n",
       "    .dataframe tbody tr th {\n",
       "        vertical-align: top;\n",
       "    }\n",
       "\n",
       "    .dataframe thead th {\n",
       "        text-align: right;\n",
       "    }\n",
       "</style>\n",
       "<table border=\"1\" class=\"dataframe\">\n",
       "  <thead>\n",
       "    <tr style=\"text-align: right;\">\n",
       "      <th></th>\n",
       "      <th>credit.policy</th>\n",
       "      <th>int.rate</th>\n",
       "      <th>installment</th>\n",
       "      <th>log.annual.inc</th>\n",
       "      <th>dti</th>\n",
       "      <th>fico</th>\n",
       "      <th>days.with.cr.line</th>\n",
       "      <th>revol.bal</th>\n",
       "      <th>revol.util</th>\n",
       "      <th>inq.last.6mths</th>\n",
       "      <th>delinq.2yrs</th>\n",
       "      <th>pub.rec</th>\n",
       "      <th>not.fully.paid</th>\n",
       "    </tr>\n",
       "  </thead>\n",
       "  <tbody>\n",
       "    <tr>\n",
       "      <td>0</td>\n",
       "      <td>1</td>\n",
       "      <td>0.1189</td>\n",
       "      <td>829.10</td>\n",
       "      <td>11.350407</td>\n",
       "      <td>19.48</td>\n",
       "      <td>737</td>\n",
       "      <td>5639.958333</td>\n",
       "      <td>28854</td>\n",
       "      <td>52.1</td>\n",
       "      <td>0</td>\n",
       "      <td>0</td>\n",
       "      <td>0</td>\n",
       "      <td>0</td>\n",
       "    </tr>\n",
       "    <tr>\n",
       "      <td>1</td>\n",
       "      <td>1</td>\n",
       "      <td>0.1071</td>\n",
       "      <td>228.22</td>\n",
       "      <td>11.082143</td>\n",
       "      <td>14.29</td>\n",
       "      <td>707</td>\n",
       "      <td>2760.000000</td>\n",
       "      <td>33623</td>\n",
       "      <td>76.7</td>\n",
       "      <td>0</td>\n",
       "      <td>0</td>\n",
       "      <td>0</td>\n",
       "      <td>0</td>\n",
       "    </tr>\n",
       "    <tr>\n",
       "      <td>2</td>\n",
       "      <td>1</td>\n",
       "      <td>0.1357</td>\n",
       "      <td>366.86</td>\n",
       "      <td>10.373491</td>\n",
       "      <td>11.63</td>\n",
       "      <td>682</td>\n",
       "      <td>4710.000000</td>\n",
       "      <td>3511</td>\n",
       "      <td>25.6</td>\n",
       "      <td>1</td>\n",
       "      <td>0</td>\n",
       "      <td>0</td>\n",
       "      <td>0</td>\n",
       "    </tr>\n",
       "    <tr>\n",
       "      <td>3</td>\n",
       "      <td>1</td>\n",
       "      <td>0.1008</td>\n",
       "      <td>162.34</td>\n",
       "      <td>11.350407</td>\n",
       "      <td>8.10</td>\n",
       "      <td>712</td>\n",
       "      <td>2699.958333</td>\n",
       "      <td>33667</td>\n",
       "      <td>73.2</td>\n",
       "      <td>1</td>\n",
       "      <td>0</td>\n",
       "      <td>0</td>\n",
       "      <td>0</td>\n",
       "    </tr>\n",
       "    <tr>\n",
       "      <td>4</td>\n",
       "      <td>1</td>\n",
       "      <td>0.1426</td>\n",
       "      <td>102.92</td>\n",
       "      <td>11.299732</td>\n",
       "      <td>14.97</td>\n",
       "      <td>667</td>\n",
       "      <td>4066.000000</td>\n",
       "      <td>4740</td>\n",
       "      <td>39.5</td>\n",
       "      <td>0</td>\n",
       "      <td>1</td>\n",
       "      <td>0</td>\n",
       "      <td>0</td>\n",
       "    </tr>\n",
       "  </tbody>\n",
       "</table>\n",
       "</div>"
      ],
      "text/plain": [
       "   credit.policy  int.rate  installment  log.annual.inc    dti  fico  \\\n",
       "0              1    0.1189       829.10       11.350407  19.48   737   \n",
       "1              1    0.1071       228.22       11.082143  14.29   707   \n",
       "2              1    0.1357       366.86       10.373491  11.63   682   \n",
       "3              1    0.1008       162.34       11.350407   8.10   712   \n",
       "4              1    0.1426       102.92       11.299732  14.97   667   \n",
       "\n",
       "   days.with.cr.line  revol.bal  revol.util  inq.last.6mths  delinq.2yrs  \\\n",
       "0        5639.958333      28854        52.1               0            0   \n",
       "1        2760.000000      33623        76.7               0            0   \n",
       "2        4710.000000       3511        25.6               1            0   \n",
       "3        2699.958333      33667        73.2               1            0   \n",
       "4        4066.000000       4740        39.5               0            1   \n",
       "\n",
       "   pub.rec  not.fully.paid  \n",
       "0        0               0  \n",
       "1        0               0  \n",
       "2        0               0  \n",
       "3        0               0  \n",
       "4        0               0  "
      ]
     },
     "execution_count": 53,
     "metadata": {},
     "output_type": "execute_result"
    }
   ],
   "source": [
    "new_df.head()"
   ]
  },
  {
   "cell_type": "code",
   "execution_count": 100,
   "metadata": {},
   "outputs": [],
   "source": [
    "from sklearn.model_selection import train_test_split"
   ]
  },
  {
   "cell_type": "code",
   "execution_count": 109,
   "metadata": {},
   "outputs": [],
   "source": [
    "X_train, X_test, y_train, y_test = train_test_split(X, y, test_size=0.30,random_state=100)"
   ]
  },
  {
   "cell_type": "code",
   "execution_count": 110,
   "metadata": {},
   "outputs": [],
   "source": [
    "from sklearn.linear_model import LogisticRegression\n",
    "from sklearn.ensemble import RandomForestClassifier\n",
    "from sklearn.metrics import accuracy_score"
   ]
  },
  {
   "cell_type": "code",
   "execution_count": 111,
   "metadata": {},
   "outputs": [
    {
     "name": "stderr",
     "output_type": "stream",
     "text": [
      "D:\\Anaconda\\lib\\site-packages\\sklearn\\linear_model\\logistic.py:432: FutureWarning: Default solver will be changed to 'lbfgs' in 0.22. Specify a solver to silence this warning.\n",
      "  FutureWarning)\n"
     ]
    },
    {
     "data": {
      "text/plain": [
       "LogisticRegression(C=1.0, class_weight=None, dual=False, fit_intercept=True,\n",
       "                   intercept_scaling=1, l1_ratio=None, max_iter=100,\n",
       "                   multi_class='warn', n_jobs=None, penalty='l2',\n",
       "                   random_state=None, solver='warn', tol=0.0001, verbose=0,\n",
       "                   warm_start=False)"
      ]
     },
     "execution_count": 111,
     "metadata": {},
     "output_type": "execute_result"
    }
   ],
   "source": [
    "log=LogisticRegression()\n",
    "log.fit(X_train,y_train)"
   ]
  },
  {
   "cell_type": "code",
   "execution_count": 112,
   "metadata": {},
   "outputs": [],
   "source": [
    "predict_log=log.predict(X_test)"
   ]
  },
  {
   "cell_type": "code",
   "execution_count": 135,
   "metadata": {},
   "outputs": [
    {
     "name": "stdout",
     "output_type": "stream",
     "text": [
      "logistics regression's accuracy  0.8312456506610996\n"
     ]
    }
   ],
   "source": [
    "print(\"logistics regression's accuracy \",accuracy_score(y_test,predict_log))"
   ]
  },
  {
   "cell_type": "code",
   "execution_count": 115,
   "metadata": {},
   "outputs": [],
   "source": [
    "rf=RandomForestClassifier()"
   ]
  },
  {
   "cell_type": "code",
   "execution_count": 116,
   "metadata": {},
   "outputs": [
    {
     "name": "stderr",
     "output_type": "stream",
     "text": [
      "D:\\Anaconda\\lib\\site-packages\\sklearn\\ensemble\\forest.py:245: FutureWarning: The default value of n_estimators will change from 10 in version 0.20 to 100 in 0.22.\n",
      "  \"10 in version 0.20 to 100 in 0.22.\", FutureWarning)\n"
     ]
    },
    {
     "data": {
      "text/plain": [
       "RandomForestClassifier(bootstrap=True, class_weight=None, criterion='gini',\n",
       "                       max_depth=None, max_features='auto', max_leaf_nodes=None,\n",
       "                       min_impurity_decrease=0.0, min_impurity_split=None,\n",
       "                       min_samples_leaf=1, min_samples_split=2,\n",
       "                       min_weight_fraction_leaf=0.0, n_estimators=10,\n",
       "                       n_jobs=None, oob_score=False, random_state=None,\n",
       "                       verbose=0, warm_start=False)"
      ]
     },
     "execution_count": 116,
     "metadata": {},
     "output_type": "execute_result"
    }
   ],
   "source": [
    "rf.fit(X_train,y_train)"
   ]
  },
  {
   "cell_type": "code",
   "execution_count": 136,
   "metadata": {},
   "outputs": [
    {
     "name": "stdout",
     "output_type": "stream",
     "text": [
      "RF accuracy 0.8256784968684759\n"
     ]
    }
   ],
   "source": [
    "rf_pred=rf.predict(X_test)\n",
    "print('RF accuracy',accuracy_score(y_test,rf_pred))"
   ]
  },
  {
   "cell_type": "code",
   "execution_count": 118,
   "metadata": {},
   "outputs": [],
   "source": [
    "from sklearn.model_selection import GridSearchCV"
   ]
  },
  {
   "cell_type": "code",
   "execution_count": 122,
   "metadata": {},
   "outputs": [],
   "source": [
    "params={'n_estimators':[200,500,700,800],'max_depth':[10,15,18,20],'min_samples_leaf':[3,6,9]}\n",
    "gscv=GridSearchCV(rf,params,verbose=3)"
   ]
  },
  {
   "cell_type": "code",
   "execution_count": 123,
   "metadata": {
    "scrolled": true
   },
   "outputs": [
    {
     "name": "stderr",
     "output_type": "stream",
     "text": [
      "D:\\Anaconda\\lib\\site-packages\\sklearn\\model_selection\\_split.py:1978: FutureWarning: The default value of cv will change from 3 to 5 in version 0.22. Specify it explicitly to silence this warning.\n",
      "  warnings.warn(CV_WARNING, FutureWarning)\n",
      "[Parallel(n_jobs=1)]: Using backend SequentialBackend with 1 concurrent workers.\n"
     ]
    },
    {
     "name": "stdout",
     "output_type": "stream",
     "text": [
      "Fitting 3 folds for each of 48 candidates, totalling 144 fits\n",
      "[CV] max_depth=10, min_samples_leaf=3, n_estimators=200 ..............\n",
      "[CV]  max_depth=10, min_samples_leaf=3, n_estimators=200, score=0.843, total=   0.9s\n",
      "[CV] max_depth=10, min_samples_leaf=3, n_estimators=200 ..............\n"
     ]
    },
    {
     "name": "stderr",
     "output_type": "stream",
     "text": [
      "[Parallel(n_jobs=1)]: Done   1 out of   1 | elapsed:    0.8s remaining:    0.0s\n"
     ]
    },
    {
     "name": "stdout",
     "output_type": "stream",
     "text": [
      "[CV]  max_depth=10, min_samples_leaf=3, n_estimators=200, score=0.843, total=   0.9s\n",
      "[CV] max_depth=10, min_samples_leaf=3, n_estimators=200 ..............\n"
     ]
    },
    {
     "name": "stderr",
     "output_type": "stream",
     "text": [
      "[Parallel(n_jobs=1)]: Done   2 out of   2 | elapsed:    1.7s remaining:    0.0s\n"
     ]
    },
    {
     "name": "stdout",
     "output_type": "stream",
     "text": [
      "[CV]  max_depth=10, min_samples_leaf=3, n_estimators=200, score=0.842, total=   0.9s\n",
      "[CV] max_depth=10, min_samples_leaf=3, n_estimators=500 ..............\n",
      "[CV]  max_depth=10, min_samples_leaf=3, n_estimators=500, score=0.843, total=   2.2s\n",
      "[CV] max_depth=10, min_samples_leaf=3, n_estimators=500 ..............\n",
      "[CV]  max_depth=10, min_samples_leaf=3, n_estimators=500, score=0.842, total=   2.2s\n",
      "[CV] max_depth=10, min_samples_leaf=3, n_estimators=500 ..............\n",
      "[CV]  max_depth=10, min_samples_leaf=3, n_estimators=500, score=0.842, total=   2.2s\n",
      "[CV] max_depth=10, min_samples_leaf=3, n_estimators=700 ..............\n",
      "[CV]  max_depth=10, min_samples_leaf=3, n_estimators=700, score=0.843, total=   3.6s\n",
      "[CV] max_depth=10, min_samples_leaf=3, n_estimators=700 ..............\n",
      "[CV]  max_depth=10, min_samples_leaf=3, n_estimators=700, score=0.843, total=   3.1s\n",
      "[CV] max_depth=10, min_samples_leaf=3, n_estimators=700 ..............\n",
      "[CV]  max_depth=10, min_samples_leaf=3, n_estimators=700, score=0.843, total=   3.1s\n",
      "[CV] max_depth=10, min_samples_leaf=3, n_estimators=800 ..............\n",
      "[CV]  max_depth=10, min_samples_leaf=3, n_estimators=800, score=0.843, total=   4.0s\n",
      "[CV] max_depth=10, min_samples_leaf=3, n_estimators=800 ..............\n",
      "[CV]  max_depth=10, min_samples_leaf=3, n_estimators=800, score=0.842, total=   3.5s\n",
      "[CV] max_depth=10, min_samples_leaf=3, n_estimators=800 ..............\n",
      "[CV]  max_depth=10, min_samples_leaf=3, n_estimators=800, score=0.843, total=   3.4s\n",
      "[CV] max_depth=10, min_samples_leaf=6, n_estimators=200 ..............\n",
      "[CV]  max_depth=10, min_samples_leaf=6, n_estimators=200, score=0.843, total=   0.8s\n",
      "[CV] max_depth=10, min_samples_leaf=6, n_estimators=200 ..............\n",
      "[CV]  max_depth=10, min_samples_leaf=6, n_estimators=200, score=0.843, total=   0.9s\n",
      "[CV] max_depth=10, min_samples_leaf=6, n_estimators=200 ..............\n",
      "[CV]  max_depth=10, min_samples_leaf=6, n_estimators=200, score=0.843, total=   0.8s\n",
      "[CV] max_depth=10, min_samples_leaf=6, n_estimators=500 ..............\n",
      "[CV]  max_depth=10, min_samples_leaf=6, n_estimators=500, score=0.843, total=   2.0s\n",
      "[CV] max_depth=10, min_samples_leaf=6, n_estimators=500 ..............\n",
      "[CV]  max_depth=10, min_samples_leaf=6, n_estimators=500, score=0.843, total=   2.1s\n",
      "[CV] max_depth=10, min_samples_leaf=6, n_estimators=500 ..............\n",
      "[CV]  max_depth=10, min_samples_leaf=6, n_estimators=500, score=0.843, total=   2.0s\n",
      "[CV] max_depth=10, min_samples_leaf=6, n_estimators=700 ..............\n",
      "[CV]  max_depth=10, min_samples_leaf=6, n_estimators=700, score=0.843, total=   2.9s\n",
      "[CV] max_depth=10, min_samples_leaf=6, n_estimators=700 ..............\n",
      "[CV]  max_depth=10, min_samples_leaf=6, n_estimators=700, score=0.843, total=   2.9s\n",
      "[CV] max_depth=10, min_samples_leaf=6, n_estimators=700 ..............\n",
      "[CV]  max_depth=10, min_samples_leaf=6, n_estimators=700, score=0.843, total=   3.0s\n",
      "[CV] max_depth=10, min_samples_leaf=6, n_estimators=800 ..............\n",
      "[CV]  max_depth=10, min_samples_leaf=6, n_estimators=800, score=0.843, total=   3.3s\n",
      "[CV] max_depth=10, min_samples_leaf=6, n_estimators=800 ..............\n",
      "[CV]  max_depth=10, min_samples_leaf=6, n_estimators=800, score=0.843, total=   3.3s\n",
      "[CV] max_depth=10, min_samples_leaf=6, n_estimators=800 ..............\n",
      "[CV]  max_depth=10, min_samples_leaf=6, n_estimators=800, score=0.843, total=   3.5s\n",
      "[CV] max_depth=10, min_samples_leaf=9, n_estimators=200 ..............\n",
      "[CV]  max_depth=10, min_samples_leaf=9, n_estimators=200, score=0.843, total=   0.8s\n",
      "[CV] max_depth=10, min_samples_leaf=9, n_estimators=200 ..............\n",
      "[CV]  max_depth=10, min_samples_leaf=9, n_estimators=200, score=0.843, total=   0.9s\n",
      "[CV] max_depth=10, min_samples_leaf=9, n_estimators=200 ..............\n",
      "[CV]  max_depth=10, min_samples_leaf=9, n_estimators=200, score=0.843, total=   0.9s\n",
      "[CV] max_depth=10, min_samples_leaf=9, n_estimators=500 ..............\n",
      "[CV]  max_depth=10, min_samples_leaf=9, n_estimators=500, score=0.843, total=   2.2s\n",
      "[CV] max_depth=10, min_samples_leaf=9, n_estimators=500 ..............\n",
      "[CV]  max_depth=10, min_samples_leaf=9, n_estimators=500, score=0.843, total=   2.1s\n",
      "[CV] max_depth=10, min_samples_leaf=9, n_estimators=500 ..............\n",
      "[CV]  max_depth=10, min_samples_leaf=9, n_estimators=500, score=0.843, total=   2.1s\n",
      "[CV] max_depth=10, min_samples_leaf=9, n_estimators=700 ..............\n",
      "[CV]  max_depth=10, min_samples_leaf=9, n_estimators=700, score=0.843, total=   3.0s\n",
      "[CV] max_depth=10, min_samples_leaf=9, n_estimators=700 ..............\n",
      "[CV]  max_depth=10, min_samples_leaf=9, n_estimators=700, score=0.843, total=   2.8s\n",
      "[CV] max_depth=10, min_samples_leaf=9, n_estimators=700 ..............\n",
      "[CV]  max_depth=10, min_samples_leaf=9, n_estimators=700, score=0.843, total=   2.8s\n",
      "[CV] max_depth=10, min_samples_leaf=9, n_estimators=800 ..............\n",
      "[CV]  max_depth=10, min_samples_leaf=9, n_estimators=800, score=0.843, total=   3.2s\n",
      "[CV] max_depth=10, min_samples_leaf=9, n_estimators=800 ..............\n",
      "[CV]  max_depth=10, min_samples_leaf=9, n_estimators=800, score=0.843, total=   3.2s\n",
      "[CV] max_depth=10, min_samples_leaf=9, n_estimators=800 ..............\n",
      "[CV]  max_depth=10, min_samples_leaf=9, n_estimators=800, score=0.843, total=   3.3s\n",
      "[CV] max_depth=15, min_samples_leaf=3, n_estimators=200 ..............\n",
      "[CV]  max_depth=15, min_samples_leaf=3, n_estimators=200, score=0.843, total=   1.1s\n",
      "[CV] max_depth=15, min_samples_leaf=3, n_estimators=200 ..............\n",
      "[CV]  max_depth=15, min_samples_leaf=3, n_estimators=200, score=0.842, total=   1.1s\n",
      "[CV] max_depth=15, min_samples_leaf=3, n_estimators=200 ..............\n",
      "[CV]  max_depth=15, min_samples_leaf=3, n_estimators=200, score=0.842, total=   1.0s\n",
      "[CV] max_depth=15, min_samples_leaf=3, n_estimators=500 ..............\n",
      "[CV]  max_depth=15, min_samples_leaf=3, n_estimators=500, score=0.843, total=   2.6s\n",
      "[CV] max_depth=15, min_samples_leaf=3, n_estimators=500 ..............\n",
      "[CV]  max_depth=15, min_samples_leaf=3, n_estimators=500, score=0.843, total=   2.6s\n",
      "[CV] max_depth=15, min_samples_leaf=3, n_estimators=500 ..............\n",
      "[CV]  max_depth=15, min_samples_leaf=3, n_estimators=500, score=0.841, total=   2.6s\n",
      "[CV] max_depth=15, min_samples_leaf=3, n_estimators=700 ..............\n",
      "[CV]  max_depth=15, min_samples_leaf=3, n_estimators=700, score=0.843, total=   3.6s\n",
      "[CV] max_depth=15, min_samples_leaf=3, n_estimators=700 ..............\n",
      "[CV]  max_depth=15, min_samples_leaf=3, n_estimators=700, score=0.842, total=   3.6s\n",
      "[CV] max_depth=15, min_samples_leaf=3, n_estimators=700 ..............\n",
      "[CV]  max_depth=15, min_samples_leaf=3, n_estimators=700, score=0.842, total=   3.7s\n",
      "[CV] max_depth=15, min_samples_leaf=3, n_estimators=800 ..............\n",
      "[CV]  max_depth=15, min_samples_leaf=3, n_estimators=800, score=0.843, total=   4.1s\n",
      "[CV] max_depth=15, min_samples_leaf=3, n_estimators=800 ..............\n",
      "[CV]  max_depth=15, min_samples_leaf=3, n_estimators=800, score=0.843, total=   4.2s\n",
      "[CV] max_depth=15, min_samples_leaf=3, n_estimators=800 ..............\n",
      "[CV]  max_depth=15, min_samples_leaf=3, n_estimators=800, score=0.843, total=   4.2s\n",
      "[CV] max_depth=15, min_samples_leaf=6, n_estimators=200 ..............\n",
      "[CV]  max_depth=15, min_samples_leaf=6, n_estimators=200, score=0.843, total=   1.0s\n",
      "[CV] max_depth=15, min_samples_leaf=6, n_estimators=200 ..............\n",
      "[CV]  max_depth=15, min_samples_leaf=6, n_estimators=200, score=0.843, total=   1.0s\n",
      "[CV] max_depth=15, min_samples_leaf=6, n_estimators=200 ..............\n",
      "[CV]  max_depth=15, min_samples_leaf=6, n_estimators=200, score=0.842, total=   1.0s\n",
      "[CV] max_depth=15, min_samples_leaf=6, n_estimators=500 ..............\n",
      "[CV]  max_depth=15, min_samples_leaf=6, n_estimators=500, score=0.843, total=   2.4s\n",
      "[CV] max_depth=15, min_samples_leaf=6, n_estimators=500 ..............\n",
      "[CV]  max_depth=15, min_samples_leaf=6, n_estimators=500, score=0.843, total=   2.7s\n",
      "[CV] max_depth=15, min_samples_leaf=6, n_estimators=500 ..............\n",
      "[CV]  max_depth=15, min_samples_leaf=6, n_estimators=500, score=0.843, total=   2.7s\n",
      "[CV] max_depth=15, min_samples_leaf=6, n_estimators=700 ..............\n",
      "[CV]  max_depth=15, min_samples_leaf=6, n_estimators=700, score=0.843, total=   3.7s\n",
      "[CV] max_depth=15, min_samples_leaf=6, n_estimators=700 ..............\n"
     ]
    },
    {
     "name": "stdout",
     "output_type": "stream",
     "text": [
      "[CV]  max_depth=15, min_samples_leaf=6, n_estimators=700, score=0.843, total=   3.7s\n",
      "[CV] max_depth=15, min_samples_leaf=6, n_estimators=700 ..............\n",
      "[CV]  max_depth=15, min_samples_leaf=6, n_estimators=700, score=0.843, total=   3.7s\n",
      "[CV] max_depth=15, min_samples_leaf=6, n_estimators=800 ..............\n",
      "[CV]  max_depth=15, min_samples_leaf=6, n_estimators=800, score=0.843, total=   3.9s\n",
      "[CV] max_depth=15, min_samples_leaf=6, n_estimators=800 ..............\n",
      "[CV]  max_depth=15, min_samples_leaf=6, n_estimators=800, score=0.843, total=   4.4s\n",
      "[CV] max_depth=15, min_samples_leaf=6, n_estimators=800 ..............\n",
      "[CV]  max_depth=15, min_samples_leaf=6, n_estimators=800, score=0.843, total=   3.9s\n",
      "[CV] max_depth=15, min_samples_leaf=9, n_estimators=200 ..............\n",
      "[CV]  max_depth=15, min_samples_leaf=9, n_estimators=200, score=0.843, total=   0.9s\n",
      "[CV] max_depth=15, min_samples_leaf=9, n_estimators=200 ..............\n",
      "[CV]  max_depth=15, min_samples_leaf=9, n_estimators=200, score=0.843, total=   0.9s\n",
      "[CV] max_depth=15, min_samples_leaf=9, n_estimators=200 ..............\n",
      "[CV]  max_depth=15, min_samples_leaf=9, n_estimators=200, score=0.843, total=   0.9s\n",
      "[CV] max_depth=15, min_samples_leaf=9, n_estimators=500 ..............\n",
      "[CV]  max_depth=15, min_samples_leaf=9, n_estimators=500, score=0.843, total=   2.3s\n",
      "[CV] max_depth=15, min_samples_leaf=9, n_estimators=500 ..............\n",
      "[CV]  max_depth=15, min_samples_leaf=9, n_estimators=500, score=0.843, total=   2.3s\n",
      "[CV] max_depth=15, min_samples_leaf=9, n_estimators=500 ..............\n",
      "[CV]  max_depth=15, min_samples_leaf=9, n_estimators=500, score=0.843, total=   2.3s\n",
      "[CV] max_depth=15, min_samples_leaf=9, n_estimators=700 ..............\n",
      "[CV]  max_depth=15, min_samples_leaf=9, n_estimators=700, score=0.843, total=   3.3s\n",
      "[CV] max_depth=15, min_samples_leaf=9, n_estimators=700 ..............\n",
      "[CV]  max_depth=15, min_samples_leaf=9, n_estimators=700, score=0.843, total=   3.2s\n",
      "[CV] max_depth=15, min_samples_leaf=9, n_estimators=700 ..............\n",
      "[CV]  max_depth=15, min_samples_leaf=9, n_estimators=700, score=0.843, total=   3.3s\n",
      "[CV] max_depth=15, min_samples_leaf=9, n_estimators=800 ..............\n",
      "[CV]  max_depth=15, min_samples_leaf=9, n_estimators=800, score=0.843, total=   3.7s\n",
      "[CV] max_depth=15, min_samples_leaf=9, n_estimators=800 ..............\n",
      "[CV]  max_depth=15, min_samples_leaf=9, n_estimators=800, score=0.843, total=   3.7s\n",
      "[CV] max_depth=15, min_samples_leaf=9, n_estimators=800 ..............\n",
      "[CV]  max_depth=15, min_samples_leaf=9, n_estimators=800, score=0.843, total=   3.9s\n",
      "[CV] max_depth=18, min_samples_leaf=3, n_estimators=200 ..............\n",
      "[CV]  max_depth=18, min_samples_leaf=3, n_estimators=200, score=0.842, total=   1.1s\n",
      "[CV] max_depth=18, min_samples_leaf=3, n_estimators=200 ..............\n",
      "[CV]  max_depth=18, min_samples_leaf=3, n_estimators=200, score=0.843, total=   1.1s\n",
      "[CV] max_depth=18, min_samples_leaf=3, n_estimators=200 ..............\n",
      "[CV]  max_depth=18, min_samples_leaf=3, n_estimators=200, score=0.843, total=   1.1s\n",
      "[CV] max_depth=18, min_samples_leaf=3, n_estimators=500 ..............\n",
      "[CV]  max_depth=18, min_samples_leaf=3, n_estimators=500, score=0.843, total=   2.7s\n",
      "[CV] max_depth=18, min_samples_leaf=3, n_estimators=500 ..............\n",
      "[CV]  max_depth=18, min_samples_leaf=3, n_estimators=500, score=0.842, total=   2.7s\n",
      "[CV] max_depth=18, min_samples_leaf=3, n_estimators=500 ..............\n",
      "[CV]  max_depth=18, min_samples_leaf=3, n_estimators=500, score=0.842, total=   2.7s\n",
      "[CV] max_depth=18, min_samples_leaf=3, n_estimators=700 ..............\n",
      "[CV]  max_depth=18, min_samples_leaf=3, n_estimators=700, score=0.843, total=   4.0s\n",
      "[CV] max_depth=18, min_samples_leaf=3, n_estimators=700 ..............\n",
      "[CV]  max_depth=18, min_samples_leaf=3, n_estimators=700, score=0.843, total=   3.8s\n",
      "[CV] max_depth=18, min_samples_leaf=3, n_estimators=700 ..............\n",
      "[CV]  max_depth=18, min_samples_leaf=3, n_estimators=700, score=0.842, total=   3.8s\n",
      "[CV] max_depth=18, min_samples_leaf=3, n_estimators=800 ..............\n",
      "[CV]  max_depth=18, min_samples_leaf=3, n_estimators=800, score=0.843, total=   4.4s\n",
      "[CV] max_depth=18, min_samples_leaf=3, n_estimators=800 ..............\n",
      "[CV]  max_depth=18, min_samples_leaf=3, n_estimators=800, score=0.842, total=   4.3s\n",
      "[CV] max_depth=18, min_samples_leaf=3, n_estimators=800 ..............\n",
      "[CV]  max_depth=18, min_samples_leaf=3, n_estimators=800, score=0.842, total=   4.5s\n",
      "[CV] max_depth=18, min_samples_leaf=6, n_estimators=200 ..............\n",
      "[CV]  max_depth=18, min_samples_leaf=6, n_estimators=200, score=0.842, total=   1.1s\n",
      "[CV] max_depth=18, min_samples_leaf=6, n_estimators=200 ..............\n",
      "[CV]  max_depth=18, min_samples_leaf=6, n_estimators=200, score=0.843, total=   1.0s\n",
      "[CV] max_depth=18, min_samples_leaf=6, n_estimators=200 ..............\n",
      "[CV]  max_depth=18, min_samples_leaf=6, n_estimators=200, score=0.843, total=   1.0s\n",
      "[CV] max_depth=18, min_samples_leaf=6, n_estimators=500 ..............\n",
      "[CV]  max_depth=18, min_samples_leaf=6, n_estimators=500, score=0.843, total=   2.5s\n",
      "[CV] max_depth=18, min_samples_leaf=6, n_estimators=500 ..............\n",
      "[CV]  max_depth=18, min_samples_leaf=6, n_estimators=500, score=0.843, total=   3.1s\n",
      "[CV] max_depth=18, min_samples_leaf=6, n_estimators=500 ..............\n",
      "[CV]  max_depth=18, min_samples_leaf=6, n_estimators=500, score=0.843, total=   2.8s\n",
      "[CV] max_depth=18, min_samples_leaf=6, n_estimators=700 ..............\n",
      "[CV]  max_depth=18, min_samples_leaf=6, n_estimators=700, score=0.843, total=   3.9s\n",
      "[CV] max_depth=18, min_samples_leaf=6, n_estimators=700 ..............\n",
      "[CV]  max_depth=18, min_samples_leaf=6, n_estimators=700, score=0.843, total=   3.5s\n",
      "[CV] max_depth=18, min_samples_leaf=6, n_estimators=700 ..............\n",
      "[CV]  max_depth=18, min_samples_leaf=6, n_estimators=700, score=0.843, total=   3.6s\n",
      "[CV] max_depth=18, min_samples_leaf=6, n_estimators=800 ..............\n",
      "[CV]  max_depth=18, min_samples_leaf=6, n_estimators=800, score=0.843, total=   4.6s\n",
      "[CV] max_depth=18, min_samples_leaf=6, n_estimators=800 ..............\n",
      "[CV]  max_depth=18, min_samples_leaf=6, n_estimators=800, score=0.843, total=   4.1s\n",
      "[CV] max_depth=18, min_samples_leaf=6, n_estimators=800 ..............\n",
      "[CV]  max_depth=18, min_samples_leaf=6, n_estimators=800, score=0.843, total=   4.0s\n",
      "[CV] max_depth=18, min_samples_leaf=9, n_estimators=200 ..............\n",
      "[CV]  max_depth=18, min_samples_leaf=9, n_estimators=200, score=0.843, total=   1.0s\n",
      "[CV] max_depth=18, min_samples_leaf=9, n_estimators=200 ..............\n",
      "[CV]  max_depth=18, min_samples_leaf=9, n_estimators=200, score=0.843, total=   1.0s\n",
      "[CV] max_depth=18, min_samples_leaf=9, n_estimators=200 ..............\n",
      "[CV]  max_depth=18, min_samples_leaf=9, n_estimators=200, score=0.843, total=   1.0s\n",
      "[CV] max_depth=18, min_samples_leaf=9, n_estimators=500 ..............\n",
      "[CV]  max_depth=18, min_samples_leaf=9, n_estimators=500, score=0.843, total=   2.4s\n",
      "[CV] max_depth=18, min_samples_leaf=9, n_estimators=500 ..............\n",
      "[CV]  max_depth=18, min_samples_leaf=9, n_estimators=500, score=0.843, total=   2.4s\n",
      "[CV] max_depth=18, min_samples_leaf=9, n_estimators=500 ..............\n",
      "[CV]  max_depth=18, min_samples_leaf=9, n_estimators=500, score=0.843, total=   2.4s\n",
      "[CV] max_depth=18, min_samples_leaf=9, n_estimators=700 ..............\n",
      "[CV]  max_depth=18, min_samples_leaf=9, n_estimators=700, score=0.843, total=   3.6s\n",
      "[CV] max_depth=18, min_samples_leaf=9, n_estimators=700 ..............\n",
      "[CV]  max_depth=18, min_samples_leaf=9, n_estimators=700, score=0.843, total=   3.5s\n",
      "[CV] max_depth=18, min_samples_leaf=9, n_estimators=700 ..............\n",
      "[CV]  max_depth=18, min_samples_leaf=9, n_estimators=700, score=0.843, total=   3.6s\n",
      "[CV] max_depth=18, min_samples_leaf=9, n_estimators=800 ..............\n",
      "[CV]  max_depth=18, min_samples_leaf=9, n_estimators=800, score=0.843, total=   3.9s\n",
      "[CV] max_depth=18, min_samples_leaf=9, n_estimators=800 ..............\n",
      "[CV]  max_depth=18, min_samples_leaf=9, n_estimators=800, score=0.843, total=   3.8s\n",
      "[CV] max_depth=18, min_samples_leaf=9, n_estimators=800 ..............\n",
      "[CV]  max_depth=18, min_samples_leaf=9, n_estimators=800, score=0.843, total=   3.8s\n",
      "[CV] max_depth=20, min_samples_leaf=3, n_estimators=200 ..............\n"
     ]
    },
    {
     "name": "stdout",
     "output_type": "stream",
     "text": [
      "[CV]  max_depth=20, min_samples_leaf=3, n_estimators=200, score=0.843, total=   1.1s\n",
      "[CV] max_depth=20, min_samples_leaf=3, n_estimators=200 ..............\n",
      "[CV]  max_depth=20, min_samples_leaf=3, n_estimators=200, score=0.842, total=   1.1s\n",
      "[CV] max_depth=20, min_samples_leaf=3, n_estimators=200 ..............\n",
      "[CV]  max_depth=20, min_samples_leaf=3, n_estimators=200, score=0.842, total=   1.1s\n",
      "[CV] max_depth=20, min_samples_leaf=3, n_estimators=500 ..............\n",
      "[CV]  max_depth=20, min_samples_leaf=3, n_estimators=500, score=0.843, total=   2.8s\n",
      "[CV] max_depth=20, min_samples_leaf=3, n_estimators=500 ..............\n",
      "[CV]  max_depth=20, min_samples_leaf=3, n_estimators=500, score=0.842, total=   2.7s\n",
      "[CV] max_depth=20, min_samples_leaf=3, n_estimators=500 ..............\n",
      "[CV]  max_depth=20, min_samples_leaf=3, n_estimators=500, score=0.843, total=   2.8s\n",
      "[CV] max_depth=20, min_samples_leaf=3, n_estimators=700 ..............\n",
      "[CV]  max_depth=20, min_samples_leaf=3, n_estimators=700, score=0.843, total=   3.9s\n",
      "[CV] max_depth=20, min_samples_leaf=3, n_estimators=700 ..............\n",
      "[CV]  max_depth=20, min_samples_leaf=3, n_estimators=700, score=0.842, total=   3.8s\n",
      "[CV] max_depth=20, min_samples_leaf=3, n_estimators=700 ..............\n",
      "[CV]  max_depth=20, min_samples_leaf=3, n_estimators=700, score=0.842, total=   3.9s\n",
      "[CV] max_depth=20, min_samples_leaf=3, n_estimators=800 ..............\n",
      "[CV]  max_depth=20, min_samples_leaf=3, n_estimators=800, score=0.843, total=   4.4s\n",
      "[CV] max_depth=20, min_samples_leaf=3, n_estimators=800 ..............\n",
      "[CV]  max_depth=20, min_samples_leaf=3, n_estimators=800, score=0.842, total=   4.3s\n",
      "[CV] max_depth=20, min_samples_leaf=3, n_estimators=800 ..............\n",
      "[CV]  max_depth=20, min_samples_leaf=3, n_estimators=800, score=0.842, total=   4.4s\n",
      "[CV] max_depth=20, min_samples_leaf=6, n_estimators=200 ..............\n",
      "[CV]  max_depth=20, min_samples_leaf=6, n_estimators=200, score=0.843, total=   1.0s\n",
      "[CV] max_depth=20, min_samples_leaf=6, n_estimators=200 ..............\n",
      "[CV]  max_depth=20, min_samples_leaf=6, n_estimators=200, score=0.843, total=   1.0s\n",
      "[CV] max_depth=20, min_samples_leaf=6, n_estimators=200 ..............\n",
      "[CV]  max_depth=20, min_samples_leaf=6, n_estimators=200, score=0.843, total=   1.0s\n",
      "[CV] max_depth=20, min_samples_leaf=6, n_estimators=500 ..............\n",
      "[CV]  max_depth=20, min_samples_leaf=6, n_estimators=500, score=0.843, total=   2.6s\n",
      "[CV] max_depth=20, min_samples_leaf=6, n_estimators=500 ..............\n",
      "[CV]  max_depth=20, min_samples_leaf=6, n_estimators=500, score=0.842, total=   2.5s\n",
      "[CV] max_depth=20, min_samples_leaf=6, n_estimators=500 ..............\n",
      "[CV]  max_depth=20, min_samples_leaf=6, n_estimators=500, score=0.842, total=   2.6s\n",
      "[CV] max_depth=20, min_samples_leaf=6, n_estimators=700 ..............\n",
      "[CV]  max_depth=20, min_samples_leaf=6, n_estimators=700, score=0.843, total=   3.6s\n",
      "[CV] max_depth=20, min_samples_leaf=6, n_estimators=700 ..............\n",
      "[CV]  max_depth=20, min_samples_leaf=6, n_estimators=700, score=0.843, total=   3.5s\n",
      "[CV] max_depth=20, min_samples_leaf=6, n_estimators=700 ..............\n",
      "[CV]  max_depth=20, min_samples_leaf=6, n_estimators=700, score=0.843, total=   3.6s\n",
      "[CV] max_depth=20, min_samples_leaf=6, n_estimators=800 ..............\n",
      "[CV]  max_depth=20, min_samples_leaf=6, n_estimators=800, score=0.843, total=   4.1s\n",
      "[CV] max_depth=20, min_samples_leaf=6, n_estimators=800 ..............\n",
      "[CV]  max_depth=20, min_samples_leaf=6, n_estimators=800, score=0.843, total=   4.1s\n",
      "[CV] max_depth=20, min_samples_leaf=6, n_estimators=800 ..............\n",
      "[CV]  max_depth=20, min_samples_leaf=6, n_estimators=800, score=0.843, total=   4.1s\n",
      "[CV] max_depth=20, min_samples_leaf=9, n_estimators=200 ..............\n",
      "[CV]  max_depth=20, min_samples_leaf=9, n_estimators=200, score=0.843, total=   1.0s\n",
      "[CV] max_depth=20, min_samples_leaf=9, n_estimators=200 ..............\n",
      "[CV]  max_depth=20, min_samples_leaf=9, n_estimators=200, score=0.843, total=   0.9s\n",
      "[CV] max_depth=20, min_samples_leaf=9, n_estimators=200 ..............\n",
      "[CV]  max_depth=20, min_samples_leaf=9, n_estimators=200, score=0.843, total=   1.0s\n",
      "[CV] max_depth=20, min_samples_leaf=9, n_estimators=500 ..............\n",
      "[CV]  max_depth=20, min_samples_leaf=9, n_estimators=500, score=0.843, total=   2.4s\n",
      "[CV] max_depth=20, min_samples_leaf=9, n_estimators=500 ..............\n",
      "[CV]  max_depth=20, min_samples_leaf=9, n_estimators=500, score=0.843, total=   2.4s\n",
      "[CV] max_depth=20, min_samples_leaf=9, n_estimators=500 ..............\n",
      "[CV]  max_depth=20, min_samples_leaf=9, n_estimators=500, score=0.843, total=   2.4s\n",
      "[CV] max_depth=20, min_samples_leaf=9, n_estimators=700 ..............\n",
      "[CV]  max_depth=20, min_samples_leaf=9, n_estimators=700, score=0.843, total=   3.4s\n",
      "[CV] max_depth=20, min_samples_leaf=9, n_estimators=700 ..............\n",
      "[CV]  max_depth=20, min_samples_leaf=9, n_estimators=700, score=0.843, total=   3.4s\n",
      "[CV] max_depth=20, min_samples_leaf=9, n_estimators=700 ..............\n",
      "[CV]  max_depth=20, min_samples_leaf=9, n_estimators=700, score=0.843, total=   3.5s\n",
      "[CV] max_depth=20, min_samples_leaf=9, n_estimators=800 ..............\n",
      "[CV]  max_depth=20, min_samples_leaf=9, n_estimators=800, score=0.843, total=   4.0s\n",
      "[CV] max_depth=20, min_samples_leaf=9, n_estimators=800 ..............\n",
      "[CV]  max_depth=20, min_samples_leaf=9, n_estimators=800, score=0.843, total=   3.9s\n",
      "[CV] max_depth=20, min_samples_leaf=9, n_estimators=800 ..............\n",
      "[CV]  max_depth=20, min_samples_leaf=9, n_estimators=800, score=0.843, total=   3.9s\n"
     ]
    },
    {
     "name": "stderr",
     "output_type": "stream",
     "text": [
      "[Parallel(n_jobs=1)]: Done 144 out of 144 | elapsed:  6.5min finished\n"
     ]
    },
    {
     "data": {
      "text/plain": [
       "GridSearchCV(cv='warn', error_score='raise-deprecating',\n",
       "             estimator=RandomForestClassifier(bootstrap=True, class_weight=None,\n",
       "                                              criterion='gini', max_depth=None,\n",
       "                                              max_features='auto',\n",
       "                                              max_leaf_nodes=None,\n",
       "                                              min_impurity_decrease=0.0,\n",
       "                                              min_impurity_split=None,\n",
       "                                              min_samples_leaf=1,\n",
       "                                              min_samples_split=2,\n",
       "                                              min_weight_fraction_leaf=0.0,\n",
       "                                              n_estimators=10, n_jobs=None,\n",
       "                                              oob_score=False,\n",
       "                                              random_state=None, verbose=0,\n",
       "                                              warm_start=False),\n",
       "             iid='warn', n_jobs=None,\n",
       "             param_grid={'max_depth': [10, 15, 18, 20],\n",
       "                         'min_samples_leaf': [3, 6, 9],\n",
       "                         'n_estimators': [200, 500, 700, 800]},\n",
       "             pre_dispatch='2*n_jobs', refit=True, return_train_score=False,\n",
       "             scoring=None, verbose=3)"
      ]
     },
     "execution_count": 123,
     "metadata": {},
     "output_type": "execute_result"
    }
   ],
   "source": [
    "gscv.fit(X_train,y_train)"
   ]
  },
  {
   "cell_type": "code",
   "execution_count": 124,
   "metadata": {},
   "outputs": [
    {
     "data": {
      "text/plain": [
       "0.8433770883054893"
      ]
     },
     "execution_count": 124,
     "metadata": {},
     "output_type": "execute_result"
    }
   ],
   "source": [
    "gscv.best_score_"
   ]
  },
  {
   "cell_type": "code",
   "execution_count": 125,
   "metadata": {},
   "outputs": [
    {
     "data": {
      "text/plain": [
       "{'max_depth': 10, 'min_samples_leaf': 6, 'n_estimators': 500}"
      ]
     },
     "execution_count": 125,
     "metadata": {},
     "output_type": "execute_result"
    }
   ],
   "source": [
    "gscv.best_params_"
   ]
  },
  {
   "cell_type": "code",
   "execution_count": 126,
   "metadata": {
    "scrolled": true
   },
   "outputs": [
    {
     "data": {
      "text/plain": [
       "RandomForestClassifier(bootstrap=True, class_weight=None, criterion='gini',\n",
       "                       max_depth=10, max_features='auto', max_leaf_nodes=None,\n",
       "                       min_impurity_decrease=0.0, min_impurity_split=None,\n",
       "                       min_samples_leaf=6, min_samples_split=2,\n",
       "                       min_weight_fraction_leaf=0.0, n_estimators=500,\n",
       "                       n_jobs=None, oob_score=False, random_state=None,\n",
       "                       verbose=0, warm_start=False)"
      ]
     },
     "execution_count": 126,
     "metadata": {},
     "output_type": "execute_result"
    }
   ],
   "source": [
    "gscv.best_estimator_"
   ]
  },
  {
   "cell_type": "code",
   "execution_count": 127,
   "metadata": {},
   "outputs": [],
   "source": [
    "rf_improve=RandomForestClassifier(bootstrap=True, class_weight=None, criterion='gini',\n",
    "                       max_depth=10, max_features='auto', max_leaf_nodes=None,\n",
    "                       min_impurity_decrease=0.0, min_impurity_split=None,\n",
    "                       min_samples_leaf=6, min_samples_split=2,\n",
    "                       min_weight_fraction_leaf=0.0, n_estimators=500,\n",
    "                       n_jobs=None, oob_score=True, random_state=None,\n",
    "                       verbose=0, warm_start=False)"
   ]
  },
  {
   "cell_type": "code",
   "execution_count": 128,
   "metadata": {},
   "outputs": [
    {
     "data": {
      "text/plain": [
       "RandomForestClassifier(bootstrap=True, class_weight=None, criterion='gini',\n",
       "                       max_depth=10, max_features='auto', max_leaf_nodes=None,\n",
       "                       min_impurity_decrease=0.0, min_impurity_split=None,\n",
       "                       min_samples_leaf=6, min_samples_split=2,\n",
       "                       min_weight_fraction_leaf=0.0, n_estimators=500,\n",
       "                       n_jobs=None, oob_score=True, random_state=None,\n",
       "                       verbose=0, warm_start=False)"
      ]
     },
     "execution_count": 128,
     "metadata": {},
     "output_type": "execute_result"
    }
   ],
   "source": [
    "rf_improve.fit(X_train,y_train)"
   ]
  },
  {
   "cell_type": "code",
   "execution_count": 129,
   "metadata": {},
   "outputs": [
    {
     "data": {
      "text/plain": [
       "0.843227923627685"
      ]
     },
     "execution_count": 129,
     "metadata": {},
     "output_type": "execute_result"
    }
   ],
   "source": [
    "rf_improve.oob_score_"
   ]
  },
  {
   "cell_type": "code",
   "execution_count": 130,
   "metadata": {},
   "outputs": [
    {
     "name": "stdout",
     "output_type": "stream",
     "text": [
      "0.8319415448851775\n"
     ]
    }
   ],
   "source": [
    "imp_final_pred=rf_improve.predict(X_test)\n",
    "print(accuracy_score(y_test,imp_final_pred))"
   ]
  },
  {
   "cell_type": "code",
   "execution_count": 131,
   "metadata": {
    "scrolled": true
   },
   "outputs": [
    {
     "data": {
      "text/plain": [
       "array([0.00970254, 0.00527993, 0.01292974, 0.00347656, 0.0048377 ,\n",
       "       0.00145939, 0.01437934, 0.04650444, 0.12339592, 0.10779699,\n",
       "       0.10056933, 0.08821139, 0.09493922, 0.09097133, 0.09333246,\n",
       "       0.10319739, 0.08098561, 0.00974539, 0.00828531])"
      ]
     },
     "execution_count": 131,
     "metadata": {},
     "output_type": "execute_result"
    }
   ],
   "source": [
    "rf_improve.feature_importances_"
   ]
  },
  {
   "cell_type": "code",
   "execution_count": 132,
   "metadata": {},
   "outputs": [
    {
     "data": {
      "text/plain": [
       "[(0.12339592298446568, 'int.rate'),\n",
       " (0.10779698962962152, 'installment'),\n",
       " (0.1031973884425959, 'revol.util'),\n",
       " (0.10056933463146113, 'log.annual.inc'),\n",
       " (0.09493922044120309, 'fico'),\n",
       " (0.09333245972120847, 'revol.bal'),\n",
       " (0.09097133152584626, 'days.with.cr.line'),\n",
       " (0.08821138504759204, 'dti'),\n",
       " (0.0809856141653724, 'inq.last.6mths'),\n",
       " (0.04650443762211708, 'credit.policy'),\n",
       " (0.01437934355767099, 'small_business'),\n",
       " (0.012929738884856365, 'debt_consolidation'),\n",
       " (0.00974539324308367, 'delinq.2yrs'),\n",
       " (0.009702537276275508, 'all_other'),\n",
       " (0.008285308715744734, 'pub.rec'),\n",
       " (0.005279933278662455, 'credit_card'),\n",
       " (0.00483770302516488, 'home_improvement'),\n",
       " (0.0034765647685042153, 'educational'),\n",
       " (0.0014593930385536588, 'major_purchase')]"
      ]
     },
     "execution_count": 132,
     "metadata": {},
     "output_type": "execute_result"
    }
   ],
   "source": [
    "sorted(list(zip(rf_improve.feature_importances_,X_train.columns)),reverse=True)"
   ]
  }
 ],
 "metadata": {
  "kernelspec": {
   "display_name": "Python 3",
   "language": "python",
   "name": "python3"
  },
  "language_info": {
   "codemirror_mode": {
    "name": "ipython",
    "version": 3
   },
   "file_extension": ".py",
   "mimetype": "text/x-python",
   "name": "python",
   "nbconvert_exporter": "python",
   "pygments_lexer": "ipython3",
   "version": "3.7.4"
  }
 },
 "nbformat": 4,
 "nbformat_minor": 2
}
