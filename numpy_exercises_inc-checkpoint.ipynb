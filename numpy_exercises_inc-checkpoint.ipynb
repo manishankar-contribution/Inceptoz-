{
 "cells": [
  {
   "cell_type": "code",
   "execution_count": 2,
   "metadata": {},
   "outputs": [
    {
     "name": "stdout",
     "output_type": "stream",
     "text": [
      "[12 13 14 15 16 17 18 19 20 21 22 23 24 25 26 27 28 29 30 31 32 33 34 35\n",
      " 36 37 38]\n"
     ]
    }
   ],
   "source": [
    "#Create an array with values ranging from 12 to 38\n",
    "\n",
    "import numpy as np\n",
    "ar=np.arange(12,39)\n",
    "print(ar)"
   ]
  },
  {
   "cell_type": "code",
   "execution_count": 8,
   "metadata": {},
   "outputs": [
    {
     "name": "stdout",
     "output_type": "stream",
     "text": [
      "[[0. 0. 0. 0. 0.]\n",
      " [0. 1. 1. 1. 0.]\n",
      " [0. 1. 1. 1. 0.]\n",
      " [0. 1. 1. 1. 0.]\n",
      " [0. 0. 0. 0. 0.]]\n"
     ]
    }
   ],
   "source": [
    "# Add a border around an existing array\n",
    "arr=np.ones((3,3))\n",
    "#print(arr)\n",
    "arr2=np.pad(arr,pad_width=1,mode='constant',constant_values=0)\n",
    "print(arr2)"
   ]
  },
  {
   "cell_type": "code",
   "execution_count": 21,
   "metadata": {},
   "outputs": [
    {
     "name": "stdout",
     "output_type": "stream",
     "text": [
      "[0 1 2 3 4 5 6 7 8]\n",
      "[[1 2 3 4]\n",
      " [5 6 7 8]]\n"
     ]
    }
   ],
   "source": [
    "#Convert a list and tuple into arrays\n",
    "list=range(9)\n",
    "arr=np.array(list)\n",
    "tup=([1,2,3,4],[5,6,7,8])\n",
    "arr2=np.array(tup)\n",
    "print(arr)\n",
    "print(arr2)\n",
    "#arr3=arr2.shape(2,3)\n",
    "#print(np.reshape(arr2,(4,2)))"
   ]
  },
  {
   "cell_type": "code",
   "execution_count": 26,
   "metadata": {},
   "outputs": [
    {
     "name": "stdout",
     "output_type": "stream",
     "text": [
      "Input array in F [ 0.   12.   45.21 34.   99.91]\n",
      "\n",
      " Output array in C [-17.77777778 -11.11111111   7.33888889   1.11111111  37.72777778]\n"
     ]
    }
   ],
   "source": [
    "#Convert the values of Centigrade degrees into Fahrenheit degrees\n",
    "\n",
    "def cel(x):\n",
    "    return (x-32)*(5/9)\n",
    "\n",
    "cel_fun=np.vectorize(cel)\n",
    "\n",
    "arr=np.array([0.,12.,45.21,34.,99.91])\n",
    "arr2=cel_fun(arr)\n",
    "print(\"Input array in F\",arr)\n",
    "print('\\n',\"Output array in C\",arr2)"
   ]
  },
  {
   "cell_type": "code",
   "execution_count": 32,
   "metadata": {},
   "outputs": [
    {
     "name": "stdout",
     "output_type": "stream",
     "text": [
      "size of the array 5\n",
      "each item size of the array 4\n",
      "total bytes size 20\n"
     ]
    }
   ],
   "source": [
    "n=np.array([1,2,3,4,5])\n",
    "print(\"size of the array\",n.size)\n",
    "print(\"each item size of the array\",n.itemsize)\n",
    "print(\"total bytes size\",n.nbytes)"
   ]
  },
  {
   "cell_type": "code",
   "execution_count": 36,
   "metadata": {},
   "outputs": [
    {
     "name": "stdout",
     "output_type": "stream",
     "text": [
      "First array [10 20 30]\n",
      "Second array [2 3 5]\n"
     ]
    }
   ],
   "source": [
    "#Get the unique elements of an array\n",
    "\n",
    "arr=np.array([10,10,20,20,30,30])\n",
    "print(\"First array\",np.unique(arr))\n",
    "arr2=np.array([[2,3],[5,5]])\n",
    "print(\"Second array\",np.unique(arr2))"
   ]
  },
  {
   "cell_type": "code",
   "execution_count": 41,
   "metadata": {},
   "outputs": [
    {
     "data": {
      "text/plain": [
       "array([[0, 1, 2],\n",
       "       [3, 4, 5],\n",
       "       [6, 7, 8]])"
      ]
     },
     "execution_count": 41,
     "metadata": {},
     "output_type": "execute_result"
    }
   ],
   "source": [
    "#Change the dimension of an array\n",
    "arr=np.arange(9)\n",
    "np.reshape(arr,(3,3))"
   ]
  },
  {
   "cell_type": "code",
   "execution_count": 42,
   "metadata": {},
   "outputs": [
    {
     "data": {
      "text/plain": [
       "array([2.5       , 2.63793103, 2.77586207, 2.9137931 , 3.05172414,\n",
       "       3.18965517, 3.32758621, 3.46551724, 3.60344828, 3.74137931,\n",
       "       3.87931034, 4.01724138, 4.15517241, 4.29310345, 4.43103448,\n",
       "       4.56896552, 4.70689655, 4.84482759, 4.98275862, 5.12068966,\n",
       "       5.25862069, 5.39655172, 5.53448276, 5.67241379, 5.81034483,\n",
       "       5.94827586, 6.0862069 , 6.22413793, 6.36206897, 6.5       ])"
      ]
     },
     "execution_count": 42,
     "metadata": {},
     "output_type": "execute_result"
    }
   ],
   "source": [
    "#Create a 1-D array of 30 evenly spaced elements between 2.5. and 6.5, inclusive\n",
    "arr=np.linspace(2.5,6.5,30)\n",
    "arr"
   ]
  },
  {
   "cell_type": "code",
   "execution_count": 46,
   "metadata": {},
   "outputs": [
    {
     "data": {
      "text/plain": [
       "array([[10, 40],\n",
       "       [20, 50],\n",
       "       [30, 60]])"
      ]
     },
     "execution_count": 46,
     "metadata": {},
     "output_type": "execute_result"
    }
   ],
   "source": [
    "#Convert 1-D arrays as columns into a 2-D array\n",
    "\n",
    "arr1=[10,20,30]\n",
    "arr2=[40,50,60]\n",
    "\n",
    "arr3=np.column_stack((arr1,arr2))\n",
    "arr3"
   ]
  },
  {
   "cell_type": "code",
   "execution_count": 52,
   "metadata": {},
   "outputs": [
    {
     "name": "stdout",
     "output_type": "stream",
     "text": [
      "[[0. 0. 0. 0. 0.]\n",
      " [0. 0. 0. 0. 0.]\n",
      " [0. 0. 0. 0. 0.]\n",
      " [0. 0. 0. 0. 0.]\n",
      " [0. 0. 0. 0. 0.]]\n",
      "\n",
      " [[0. 1. 2. 3. 4.]\n",
      " [0. 1. 2. 3. 4.]\n",
      " [0. 1. 2. 3. 4.]\n",
      " [0. 1. 2. 3. 4.]\n",
      " [0. 1. 2. 3. 4.]]\n"
     ]
    }
   ],
   "source": [
    "#Create a 5x5 matrix with row values ranging from 0 to 4\n",
    "\n",
    "arr=np.zeros((5,5))\n",
    "arr2=np.array([0,1,2,3,4])\n",
    "arr3=arr+arr2\n",
    "\n",
    "print(arr)\n",
    "#print('\\n',arr3)"
   ]
  },
  {
   "cell_type": "code",
   "execution_count": 64,
   "metadata": {},
   "outputs": [
    {
     "data": {
      "text/plain": [
       "array([ 3,  5,  6,  9, 10, 12, 15, 18, 20, 21, 24, 25, 27, 30, 33, 35, 36,\n",
       "       39, 40, 42, 45, 48, 50, 51, 54, 55, 57, 60, 63, 65, 66, 69, 70, 72,\n",
       "       75, 78, 80, 81, 84, 85, 87, 90, 93, 95, 96, 99])"
      ]
     },
     "execution_count": 64,
     "metadata": {},
     "output_type": "execute_result"
    }
   ],
   "source": [
    "#Sum of all the multiples of 3 or 5 below 100\n",
    "\n",
    "arr3=np.arange(start=3,stop=100,step=3)\n",
    "arr3\n",
    "arr5=np.arange(start=5,stop=100,step=5)\n",
    "arr5\n",
    "\n",
    "arr=np.append(arr3,arr5)\n",
    "np.unique(arr)"
   ]
  },
  {
   "cell_type": "code",
   "execution_count": 68,
   "metadata": {},
   "outputs": [
    {
     "name": "stdout",
     "output_type": "stream",
     "text": [
      "0 : 0\n",
      "1 : 1\n",
      "2 : 2\n",
      "3 : 3\n",
      "0 : 4\n",
      "1 : 5\n",
      "2 : 6\n",
      "3 : 7\n"
     ]
    }
   ],
   "source": [
    "#Combine a one and a two dimensional array together and display their elements\n",
    "\n",
    "arr1=np.arange(4)\n",
    "arr2=np.arange(8)\n",
    "arr3=np.reshape(arr2,(2,4))\n",
    "arr3\n",
    "\n",
    "for x,y in np.nditer([arr1,arr3]):\n",
    "    print(x,\":\",y)"
   ]
  },
  {
   "cell_type": "code",
   "execution_count": 70,
   "metadata": {},
   "outputs": [
    {
     "data": {
      "text/plain": [
       "array([[0.42436315, 0.48558583, 0.32924763],\n",
       "       [0.5       , 0.5       , 0.38213418],\n",
       "       [0.5       , 0.34528799, 0.1563123 ]])"
      ]
     },
     "execution_count": 70,
     "metadata": {},
     "output_type": "execute_result"
    }
   ],
   "source": [
    "#Write a NumPy program to replace all elements of NumPy array that are greater than specified array\n",
    "\n",
    "arr2=np.array([[0.42436315,0.48558583,0.32924763],[0.7439979,0.58220701,0.38213418],[0.5097581,0.34528799,0.1563123]])\n",
    "arr2[arr2 > 0.5] = 0.5\n",
    "arr2"
   ]
  },
  {
   "cell_type": "code",
   "execution_count": 81,
   "metadata": {},
   "outputs": [
    {
     "name": "stdout",
     "output_type": "stream",
     "text": [
      "(0, 3)\n"
     ]
    },
    {
     "data": {
      "text/plain": [
       "array([[1, 2, 3],\n",
       "       [4, 5, 6]])"
      ]
     },
     "execution_count": 81,
     "metadata": {},
     "output_type": "execute_result"
    }
   ],
   "source": [
    "#Add a new row to an empty numpy array\n",
    "\n",
    "#arr1=np.array([[]])\n",
    "arr1=np.empty((0,3), int)\n",
    "print(arr1.shape)\n",
    "arr2=np.array([[1,2,3]])\n",
    "arr3=np.array([[4,5,6]])\n",
    "\n",
    "arr1=np.append(arr1,arr2,axis=0)\n",
    "arr1=np.append(arr1,arr3,axis=0)\n",
    "arr1"
   ]
  },
  {
   "cell_type": "code",
   "execution_count": 83,
   "metadata": {},
   "outputs": [
    {
     "data": {
      "text/plain": [
       "array([[1, 2, 3]])"
      ]
     },
     "execution_count": 83,
     "metadata": {},
     "output_type": "execute_result"
    }
   ],
   "source": [
    "arr2"
   ]
  },
  {
   "cell_type": "code",
   "execution_count": 94,
   "metadata": {},
   "outputs": [
    {
     "data": {
      "text/plain": [
       "array([10, 20, 30, 20, 30, 45])"
      ]
     },
     "execution_count": 94,
     "metadata": {},
     "output_type": "execute_result"
    }
   ],
   "source": [
    "arr1=np.empty((0,3), int)\n",
    "arr5=np.array([10,20,30])\n",
    "arr6=np.array([20,30,45])\n",
    "arr1=np.append(arr1,arr5)\n",
    "arr1=np.append(arr1,arr6)\n",
    "arr1"
   ]
  },
  {
   "cell_type": "code",
   "execution_count": 100,
   "metadata": {},
   "outputs": [
    {
     "name": "stdout",
     "output_type": "stream",
     "text": [
      "[[1 2 3]\n",
      " [2 3 4]]\n",
      "[[1]\n",
      " [2]\n",
      " [3]\n",
      " [2]\n",
      " [3]\n",
      " [4]]\n"
     ]
    }
   ],
   "source": [
    "#Write a NumPy program to join a sequence of arrays along a new axis\n",
    "\n",
    "arr1=np.array([1,2,3])\n",
    "arr2=np.array([2,3,4])\n",
    "\n",
    "print(np.vstack((arr1,arr2)))\n",
    "\n",
    "ar1=np.array([[1],[2],[3]])\n",
    "ar2=np.array([[2], [3], [4]])\n",
    "\n",
    "print(np.vstack((ar1,ar2)))"
   ]
  },
  {
   "cell_type": "code",
   "execution_count": null,
   "metadata": {},
   "outputs": [],
   "source": []
  },
  {
   "cell_type": "code",
   "execution_count": null,
   "metadata": {},
   "outputs": [],
   "source": []
  },
  {
   "cell_type": "code",
   "execution_count": null,
   "metadata": {},
   "outputs": [],
   "source": []
  }
 ],
 "metadata": {
  "kernelspec": {
   "display_name": "Python 3",
   "language": "python",
   "name": "python3"
  },
  "language_info": {
   "codemirror_mode": {
    "name": "ipython",
    "version": 3
   },
   "file_extension": ".py",
   "mimetype": "text/x-python",
   "name": "python",
   "nbconvert_exporter": "python",
   "pygments_lexer": "ipython3",
   "version": "3.7.4"
  }
 },
 "nbformat": 4,
 "nbformat_minor": 2
}
