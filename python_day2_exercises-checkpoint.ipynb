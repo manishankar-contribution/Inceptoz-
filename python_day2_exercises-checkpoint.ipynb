{
 "cells": [
  {
   "cell_type": "code",
   "execution_count": 3,
   "metadata": {},
   "outputs": [
    {
     "name": "stdout",
     "output_type": "stream",
     "text": [
      "1505 1540 1575 1610 1645 1680 1715 1750 1785 1820 1855 1890 1925 1960 1995 2030 2065 2100 2135 2170 2205 2240 2275 2310 2345 2380 2415 2450 2485 2520 2555 2590 2625 2660 2695 "
     ]
    }
   ],
   "source": [
    "#1. Write a Python program to find those numbers which are divisible by 7 and multiple of 5, between 1500 and 2700 (both included)\n",
    "\n",
    "#1505,1540,1575,1610,1645,1680,1715,1750,1785,1820,1855,1890,1925,1960,1995,2030,2065,2100,2135,2170,2205,2240,2275,2310,2345,2380,2415,2450,2485,2520,2555,2590,2625,2660,2695\n",
    "\n",
    "for x in range(1500,2701):\n",
    "    if x%7 == 0 and x%5==0:\n",
    "        print (x,end=' ')\n"
   ]
  },
  {
   "cell_type": "code",
   "execution_count": 12,
   "metadata": {},
   "outputs": [
    {
     "name": "stdout",
     "output_type": "stream",
     "text": [
      " *\n",
      " * *\n",
      " * * *\n",
      " * * * *\n",
      " * * * * *\n",
      " * * * *\n",
      " * * *\n",
      " * *\n",
      " *\n"
     ]
    }
   ],
   "source": [
    "#Write a Python program to construct the following pattern, using a nested for loop\n",
    "\n",
    "for x,y,z in ([1,6,1],[4,0,-1]):\n",
    "    for i in range(x,y,z):\n",
    "        print (i* ' *')"
   ]
  },
  {
   "cell_type": "code",
   "execution_count": 17,
   "metadata": {},
   "outputs": [
    {
     "name": "stdout",
     "output_type": "stream",
     "text": [
      "the no of even numbers 5\n",
      "the no of odd numbers 5\n"
     ]
    }
   ],
   "source": [
    "#Write a Python program to count the number of even and odd numbers from a series of numbers\n",
    "x= range(1,11)\n",
    "even,odd=0,0\n",
    "for i in x:\n",
    "    if i%2==0:\n",
    "        even=even+1\n",
    "    else:\n",
    "        odd=odd+1\n",
    "print(\"the no of even numbers\", even)\n",
    "print(\"the no of odd numbers\", odd)"
   ]
  },
  {
   "cell_type": "code",
   "execution_count": 23,
   "metadata": {},
   "outputs": [
    {
     "name": "stdout",
     "output_type": "stream",
     "text": [
      "200,202,204,206,208,220,222,224,226,228,240,242,244,246,248,260,262,264,266,268,280,282,284,286,288,400,"
     ]
    }
   ],
   "source": [
    "#Write a Python program to find numbers between 100 and 400 (both included) where each digit of a number is an even number. The numbers obtained should be printed in a comma-separated sequence\n",
    "\n",
    "for x in range(100,401):\n",
    "    if (int(str(x)[0])==0 or int(str(x)[0])%2==0) and (int(str(x)[1])==0 or int(str(x)[1])%2==0) and (int(str(x)[2])==0 or int(str(x)[2])%2==0) :\n",
    "        print (x, end=\",\")"
   ]
  },
  {
   "cell_type": "code",
   "execution_count": 27,
   "metadata": {},
   "outputs": [
    {
     "name": "stdout",
     "output_type": "stream",
     "text": [
      "enter dog's age in human years 20\n",
      "Input a dog's age in human years: 20\n",
      "The dog's age in dog's years is 93.0\n"
     ]
    }
   ],
   "source": [
    "#Write a Python program to calculate a dog's age in dog's years. Go to the editor\n",
    "#Note: For the first two years, a dog year is equal to 10.5 human years. After that, each dog year equals 4 human years.\n",
    "\n",
    "def fun(dog_age):\n",
    "    if dog_age > 2:\n",
    "        return (10.5*2)+(dog_age-2)*4 \n",
    "x=int(input(\"enter dog's age in human years \"))\n",
    "y=fun(x)\n",
    "\n",
    "print(\"Input a dog's age in human years:\",x)\n",
    "print(\"The dog's age in dog's years is\",y)"
   ]
  },
  {
   "cell_type": "code",
   "execution_count": 29,
   "metadata": {},
   "outputs": [
    {
     "name": "stdout",
     "output_type": "stream",
     "text": [
      "three number are 3 6 -5\n",
      "6\n"
     ]
    }
   ],
   "source": [
    "#Write a Python function to find the Max of three numbers\n",
    "x,y,z=3,6,-5\n",
    "print(\"three number are\",x,y,z)\n",
    "if x > y and x > z:\n",
    "    print (x)\n",
    "elif y > z:\n",
    "    print (y)\n",
    "else:\n",
    "    print(z)\n"
   ]
  },
  {
   "cell_type": "code",
   "execution_count": 53,
   "metadata": {},
   "outputs": [
    {
     "name": "stdout",
     "output_type": "stream",
     "text": [
      "enter a number to check prime or not 99\n",
      "99 number is not prime\n"
     ]
    }
   ],
   "source": [
    "#Write a Python function that takes a number as a parameter and check the number is prime or not\n",
    "def prime_fun(n):\n",
    "    for x in range(2,n):\n",
    "        if n%x==0:\n",
    "            return \"number is prime\"\n",
    "        return \"number is not prime\"\n",
    "            \n",
    "a=int(input(\"enter a number to check prime or not \"))\n",
    "print(a,prime_fun(a))"
   ]
  },
  {
   "cell_type": "code",
   "execution_count": 54,
   "metadata": {},
   "outputs": [
    {
     "name": "stdout",
     "output_type": "stream",
     "text": [
      "no of lowercase char  32\n",
      "no of upper char  13\n"
     ]
    }
   ],
   "source": [
    "strng=\"Inceptz is One of The BeSt Places TO LEarn DataSciEnce\"\n",
    "up_cnt=0\n",
    "lw_cnt=0\n",
    "for x in strng.split():\n",
    "    for y in x:\n",
    "        if y==y.upper():\n",
    "            up_cnt=up_cnt+1\n",
    "        else:\n",
    "            lw_cnt=lw_cnt+1\n",
    "\n",
    "print(\"no of lowercase char \",lw_cnt)\n",
    "print(\"no of upper char \",up_cnt)"
   ]
  },
  {
   "cell_type": "code",
   "execution_count": 37,
   "metadata": {},
   "outputs": [
    {
     "name": "stdout",
     "output_type": "stream",
     "text": [
      "The original string is:  1234abcd\n",
      "The reversed string:  dcba4321\n"
     ]
    }
   ],
   "source": [
    "#Write a Python program to reverse a string\n",
    "x='1234abcd'\n",
    "print('The original string is: ',x)\n",
    "print('The reversed string: ', x[::-1])"
   ]
  },
  {
   "cell_type": "code",
   "execution_count": 78,
   "metadata": {},
   "outputs": [
    {
     "name": "stdout",
     "output_type": "stream",
     "text": [
      "Enter two numbers here: 12,14\n",
      "GCD of two nos are 2\n"
     ]
    }
   ],
   "source": [
    "#Write a Python program to find the greatest common divisor (gcd) of two integers\n",
    "\n",
    "def gcd_fun(a,b):\n",
    "    if a>1 and b>1:\n",
    "        if a > b:\n",
    "            for x in range(2,b+1):\n",
    "                if a%x==0 and b%x==0:\n",
    "                    return x\n",
    "        else:\n",
    "            for x in range(2,a+1):\n",
    "                if a%x==0 and b%x==0:\n",
    "                    return x\n",
    "    else:\n",
    "        return 1\n",
    "x,u= [int(x) for x in input(\"Enter two numbers here: \").split(\",\")]\n",
    "#x,u=int(input(\"enter two numbers\").split())\n",
    "print(\"GCD of two nos are\",gcd_fun(x,u))"
   ]
  }
 ],
 "metadata": {
  "kernelspec": {
   "display_name": "Python 3",
   "language": "python",
   "name": "python3"
  },
  "language_info": {
   "codemirror_mode": {
    "name": "ipython",
    "version": 3
   },
   "file_extension": ".py",
   "mimetype": "text/x-python",
   "name": "python",
   "nbconvert_exporter": "python",
   "pygments_lexer": "ipython3",
   "version": "3.7.4"
  }
 },
 "nbformat": 4,
 "nbformat_minor": 2
}
