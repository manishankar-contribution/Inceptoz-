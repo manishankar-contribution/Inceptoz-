{
 "cells": [
  {
   "cell_type": "code",
   "execution_count": 9,
   "metadata": {},
   "outputs": [
    {
     "name": "stdout",
     "output_type": "stream",
     "text": [
      "Original list [34, 54, 67, 89, 11, 43, 94]\n",
      "List After removing element at index 4 [34, 54, 67, 89, 43, 94]\n",
      "List after Adding element at index 2 [34, 54, 11, 67, 89, 43, 94]\n",
      "List after Adding element at last [34, 54, 11, 67, 89, 43, 94, 11]\n"
     ]
    }
   ],
   "source": [
    "# For example: List = [54, 44, 27, 79, 91, 41]\n",
    "# Original list  [34, 54, 67, 89, 11, 43, 94]\n",
    "# List After removing element at index 4  [34, 54, 67, 89, 43, 94]\n",
    "# List after Adding element at index 2  [34, 54, 11, 67, 89, 43, 94]\n",
    "# List after Adding element at last  [34, 54, 11, 67, 89, 43, 94, 11]\n",
    "\n",
    "list1=[34, 54, 67, 89, 11, 43, 94]\n",
    "org_list=list1.copy()\n",
    "element4=list1[4]\n",
    "list1.pop(4)\n",
    "list2=list1.copy()\n",
    "list2.insert(2,element4)\n",
    "list3=list2.copy()\n",
    "list3.append(element4)\n",
    "\n",
    "print(\"Original list\", org_list)\n",
    "print(\"List After removing element at index 4\", list1)\n",
    "print(\"List after Adding element at index 2\", list2)\n",
    "print(\"List after Adding element at last\", list3)"
   ]
  },
  {
   "cell_type": "code",
   "execution_count": 25,
   "metadata": {},
   "outputs": [
    {
     "name": "stdout",
     "output_type": "stream",
     "text": [
      "First List [2, 3, 4, 5, 6, 7, 8]\n",
      "Second list [4, 9, 16, 25, 36, 49, 64]\n",
      "{64, 2, 3, 4, 5, 6, 7, 8, 9, 36, 16, 49, 25}\n"
     ]
    }
   ],
   "source": [
    "#First List  [2, 3, 4, 5, 6, 7, 8]\n",
    "#Second List  [4, 9, 16, 25, 36, 49, 64]\n",
    "#[64, 2, 3, 4, 5, 6, 7, 8, 9, 36, 16, 49, 25]\n",
    "\n",
    "first_list=[2, 3, 4, 5, 6, 7, 8]\n",
    "first_list_temp=first_list.copy()\n",
    "sec_list=[4, 9, 16, 25, 36, 49, 64]\n",
    "first_list_temp.extend(sec_list)\n",
    "#q=set(first_list_temp.extend(sec_list))\n",
    "q=set(first_list_temp)\n",
    "#print(q)\n",
    "print (\"First List\",first_list)\n",
    "print (\"Second list\",sec_list)\n",
    "print (set(first_list_temp))"
   ]
  },
  {
   "cell_type": "code",
   "execution_count": 29,
   "metadata": {},
   "outputs": [
    {
     "data": {
      "text/plain": [
       "NoneType"
      ]
     },
     "execution_count": 29,
     "metadata": {},
     "output_type": "execute_result"
    }
   ],
   "source": [
    "#q=first_list_temp.extend(sec_list)\n",
    "#type(first_list_temp.extend(sec_list))"
   ]
  },
  {
   "cell_type": "code",
   "execution_count": 36,
   "metadata": {},
   "outputs": [
    {
     "name": "stdout",
     "output_type": "stream",
     "text": [
      "orginal list [87, 52, 44, 53, 54, 87, 52, 53]\n",
      "unique list [44, 52, 53, 54, 87]\n",
      "tuple (44, 52, 53, 54, 87)\n",
      "Min number is 44\n",
      "Max number is 87\n"
     ]
    }
   ],
   "source": [
    "# Original list [87, 52, 44, 53, 54, 87, 52, 53]\n",
    "# unique list [44, 52, 53, 54, 87]\n",
    "# tuple  (44, 52, 53, 54, 87)\n",
    "# Minimum number is:  44\n",
    "# Maximum number is:  87\n",
    "\n",
    "org_list=[87, 52, 44, 53, 54, 87, 52, 53]\n",
    "print(\"orginal list\", org_list)\n",
    "uniq= list(set(org_list))\n",
    "print(\"unique list\", uniq)\n",
    "tups=tuple(uniq)\n",
    "print (\"tuple\", tups)\n",
    "\n",
    "print(\"Min number is\",min(tups))\n",
    "print(\"Max number is\",max(tups))"
   ]
  },
  {
   "cell_type": "code",
   "execution_count": 39,
   "metadata": {},
   "outputs": [
    {
     "name": "stdout",
     "output_type": "stream",
     "text": [
      "Printing each words seperately: W e l c o m e   t o   P y t h o n\n",
      "17\n"
     ]
    }
   ],
   "source": [
    "# The sample string: Welcome to Python\n",
    "# Printing each words seperately:  W e l c o m e   t o   P y t h o n\n",
    "# The Length of the string 17\n",
    "\n",
    "sample=\"Welcome to Python\"\n",
    "print('Printing each words seperately:',end=' ')\n",
    "print(*sample)\n",
    "print(len(sample))"
   ]
  },
  {
   "cell_type": "code",
   "execution_count": 48,
   "metadata": {},
   "outputs": [
    {
     "name": "stdout",
     "output_type": "stream",
     "text": [
      "The key element accesed by index: physics\n"
     ]
    }
   ],
   "source": [
    "# The dictionary is:  {'physics': 80, 'math': 90, 'chemistry': 86}\n",
    "# The key element accesed by index:  physics\n",
    "\n",
    "dict={'physics': 80, 'math': 90, 'chemistry': 86}\n",
    "print(\"The key element accesed by index:\", list(dict.keys())[0])\n",
    "#type(list(dict.keys())[0])"
   ]
  },
  {
   "cell_type": "code",
   "execution_count": null,
   "metadata": {},
   "outputs": [],
   "source": []
  }
 ],
 "metadata": {
  "kernelspec": {
   "display_name": "Python 3",
   "language": "python",
   "name": "python3"
  },
  "language_info": {
   "codemirror_mode": {
    "name": "ipython",
    "version": 3
   },
   "file_extension": ".py",
   "mimetype": "text/x-python",
   "name": "python",
   "nbconvert_exporter": "python",
   "pygments_lexer": "ipython3",
   "version": "3.7.4"
  }
 },
 "nbformat": 4,
 "nbformat_minor": 2
}
